{
  "nbformat": 4,
  "nbformat_minor": 0,
  "metadata": {
    "colab": {
      "name": "Day4.ipynb",
      "provenance": [],
      "include_colab_link": true
    },
    "kernelspec": {
      "name": "python3",
      "display_name": "Python 3"
    },
    "language_info": {
      "name": "python"
    }
  },
  "cells": [
    {
      "cell_type": "markdown",
      "metadata": {
        "id": "view-in-github",
        "colab_type": "text"
      },
      "source": [
        "<a href=\"https://colab.research.google.com/github/shu736/Introduction-to-Pythom/blob/main/Day4.ipynb\" target=\"_parent\"><img src=\"https://colab.research.google.com/assets/colab-badge.svg\" alt=\"Open In Colab\"/></a>"
      ]
    },
    {
      "cell_type": "code",
      "metadata": {
        "id": "hJLne3reFLhB"
      },
      "source": [
        "import numpy as np\n",
        "import matplotlib.pyplot as plt\n",
        "\n",
        "def cal_err(b,x,y):\n",
        "  n = len(y)\n",
        "  X = np.insert(x,0,np.ones(n),axis = 1) #Inserting a column of ones to the existing matrix x\n",
        "  return np.sum((y-np.matmul(b,X.T))**2)*(0.5/n)\n",
        "\n",
        "def grad(b,x,y):\n",
        "  n = len(y) #This gives me the number of samples \n",
        "  X = np.insert(x,0,np.ones(n),axis = 1) #Inserting a column of ones to the existing matrix x\n",
        "  g = np.array([0]*len(b)) #gradients are zeros\n",
        "  for i in range(len(b)):\n",
        "    g[i] = (-1/n)*np.sum((y-np.matmul(b,X.T))*X.T[i,:]) #calculate gradients\n",
        "  return g\n",
        "\n",
        "def update_weights(b,eta,x,y):\n",
        "  return b - eta*grad(b,x,y) #grad function returns the gradients and I am returning the updated weights\n",
        "\n",
        "def grad_algo(x,y,eta,max_iter):\n",
        "  #x is the input data\n",
        "  #y is the output data\n",
        "  #eta is learning rate \n",
        "  #max_iter is the maximem iterations\n",
        "  num_rows, n = x.shape #n is the number of features or the number of variables in the dataset\n",
        "  b = np.zeros(n+1) #initialize the betas to zeros\n",
        "  error = [cal_err(b,x,y)] #This function calculates the error\n",
        "  iter = 1 #This indicates the current iteration\n",
        "  while iter < max_iter:\n",
        "    b = update_weights(b,eta,x,y) #This function updates the weghts in every iteration\n",
        "    error.append(cal_err(b,x,y)) #Update error for the updated weights and store in the list\n",
        "    iter = iter+1\n",
        "  plt.scatter(np.arange(1,len(error)+1,1),np.array(error)) #plots error vs iterations\n",
        "  plt.xlabel(\"Iterations\")\n",
        "  plt.ylabel(\"Error\")\n",
        "  plt.show()\n",
        "  return b\n",
        "\n",
        "def predict(b,x):\n",
        "  return b[0]+np.sum(b[1:]*x) #b0+b1*x1+b2*x2+...+bn*nx"
      ],
      "execution_count": null,
      "outputs": []
    },
    {
      "cell_type": "code",
      "metadata": {
        "colab": {
          "resources": {
            "http://localhost:8080/nbextensions/google.colab/files.js": {
              "data": "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",
              "ok": true,
              "headers": [
                [
                  "content-type",
                  "application/javascript"
                ]
              ],
              "status": 200,
              "status_text": ""
            }
          },
          "base_uri": "https://localhost:8080/",
          "height": 73
        },
        "id": "U2YJtjdhG74k",
        "outputId": "b945c22d-d5a7-449a-cfda-3bd149ff3b30"
      },
      "source": [
        "from google.colab import files\n",
        "data = files.upload() #uploading the data"
      ],
      "execution_count": null,
      "outputs": [
        {
          "output_type": "display_data",
          "data": {
            "text/html": [
              "\n",
              "     <input type=\"file\" id=\"files-ede6307c-3c10-4fc6-bc2f-92093359e9cf\" name=\"files[]\" multiple disabled\n",
              "        style=\"border:none\" />\n",
              "     <output id=\"result-ede6307c-3c10-4fc6-bc2f-92093359e9cf\">\n",
              "      Upload widget is only available when the cell has been executed in the\n",
              "      current browser session. Please rerun this cell to enable.\n",
              "      </output>\n",
              "      <script src=\"/nbextensions/google.colab/files.js\"></script> "
            ],
            "text/plain": [
              "<IPython.core.display.HTML object>"
            ]
          },
          "metadata": {
            "tags": []
          }
        },
        {
          "output_type": "stream",
          "text": [
            "Saving hou_all.csv to hou_all.csv\n"
          ],
          "name": "stdout"
        }
      ]
    },
    {
      "cell_type": "code",
      "metadata": {
        "colab": {
          "base_uri": "https://localhost:8080/"
        },
        "id": "HlCfsFE1HJPX",
        "outputId": "99d2e6b6-e8cd-4ccf-8e3e-5e38d4ce594b"
      },
      "source": [
        "import pandas as pd\n",
        "import io\n",
        "df = pd.read_csv(io.BytesIO(data['hou_all.csv']),header=None) #reading the csv from system to Pandas Dataframe. Header is none because the csv file has no header\n",
        "print(df.head())#printing out first five rows in the dataset\n",
        "Data = df.to_numpy() #Converting the dataframe to numpy 2D array\n",
        "x = Data[:,0:13] #This selects the first 13 columns which correspond to the features or x \n",
        "y = Data[:,13] #This selects the 14 column which corresponds to the targets\n",
        "\n",
        "#Keep some 20 samples/examples for testing and remaining for training\n",
        "x_train = x[:-20,:] #this selects all the examples except the last 20\n",
        "y_train = y[:-20]\n",
        "x_test = x[-20:,:]#this selects the last 20 examples\n",
        "y_test = y[-20:]"
      ],
      "execution_count": null,
      "outputs": [
        {
          "output_type": "stream",
          "text": [
            "        0     1     2   3      4      5   ...   9     10      11    12    13  14\n",
            "0  0.00632  18.0  2.31   0  0.538  6.575  ...  296  15.3  396.90  4.98  24.0   1\n",
            "1  0.02731   0.0  7.07   0  0.469  6.421  ...  242  17.8  396.90  9.14  21.6   1\n",
            "2  0.02729   0.0  7.07   0  0.469  7.185  ...  242  17.8  392.83  4.03  34.7   1\n",
            "3  0.03237   0.0  2.18   0  0.458  6.998  ...  222  18.7  394.63  2.94  33.4   1\n",
            "4  0.06905   0.0  2.18   0  0.458  7.147  ...  222  18.7  396.90  5.33  36.2   1\n",
            "\n",
            "[5 rows x 15 columns]\n"
          ],
          "name": "stdout"
        }
      ]
    },
    {
      "cell_type": "code",
      "metadata": {
        "colab": {
          "base_uri": "https://localhost:8080/",
          "height": 350
        },
        "id": "D_0kHIZNI8Uy",
        "outputId": "0e084705-0650-4233-adad-b4a68280bec1"
      },
      "source": [
        "b = grad_algo(x_train,y_train,0.000001,100) \n",
        "print(\"The predicted value for 10 test data is:\", predict(b,x_test[10,:])) #Predicted value\n",
        "print(\"The actual value for 10 test data is:\", y_test[10]) #Actual value\n",
        "print(\"The training error after 100 iterations is: \",cal_err(b,x_train,y_train)) #Training error\n",
        "print(\"The error for test data is: \",cal_err(b,x_test,y_test))#Testing error"
      ],
      "execution_count": null,
      "outputs": [
        {
          "output_type": "display_data",
          "data": {
            "image/png": "[encoded data removed]",
            "text/plain": [
              "<Figure size 432x288 with 1 Axes>"
            ]
          },
          "metadata": {
            "tags": [],
            "needs_background": "light"
          }
        },
        {
          "output_type": "stream",
          "text": [
            "The predicted value for 10 test data is: 24.217378577599995\n",
            "The actual value for 10 test data is: 19.7\n",
            "The training error after 100 iterations is:  41.22840330684569\n",
            "The error for test data is:  24.968520671900208\n"
          ],
          "name": "stdout"
        }
      ]
    },
    {
      "cell_type": "markdown",
      "metadata": {
        "id": "pizn7ySkLxA6"
      },
      "source": [
        "#Feature scaling\n",
        "why we need to scale the features?\n",
        "MinMax Scaling: (x-xmin)/(xmax-xmin) This brings all the features into the range of [0,1]\n",
        "\n",
        "Normalization: (x-xmean)/x_std, where xmean is the mean value of the feature and x_std is the standard deviation. This also bring all the feature into [0,1]"
      ]
    },
    {
      "cell_type": "code",
      "metadata": {
        "colab": {
          "base_uri": "https://localhost:8080/",
          "height": 350
        },
        "id": "xT2Zlw8fMtaG",
        "outputId": "92f5e26b-af0e-433f-d155-d7c4ea74e564"
      },
      "source": [
        "x_minmax = (x - x.min(axis=0))/(x.max(axis=0)-x.min(axis=0)) #Performing minmax scaling on the data. axis=0 indicates column wise calculation\n",
        "x_train = x_minmax[:-20,:]\n",
        "x_test = x_minmax[-20:,:]\n",
        "b = grad_algo(x_train,y_train,0.5,100) \n",
        "print(\"The predicted value for 10 test data is:\", predict(b,x_test[10,:])) #Predicted value\n",
        "print(\"The actual value for 10 test data is:\", y_test[10]) #Actual value\n",
        "print(\"The training error after 100 iterations is: \",cal_err(b,x_train,y_train)) #Training error\n",
        "print(\"The error for test data is: \",cal_err(b,x_test,y_test))#Testing error"
      ],
      "execution_count": null,
      "outputs": [
        {
          "output_type": "display_data",
          "data": {
            "image/png": "[encoded data removed]",
            "text/plain": [
              "<Figure size 432x288 with 1 Axes>"
            ]
          },
          "metadata": {
            "tags": [],
            "needs_background": "light"
          }
        },
        {
          "output_type": "stream",
          "text": [
            "The predicted value for 10 test data is: 21.5645105833538\n",
            "The actual value for 10 test data is: 19.7\n",
            "The training error after 100 iterations is:  28.221534730098814\n",
            "The error for test data is:  16.160092644052703\n"
          ],
          "name": "stdout"
        }
      ]
    },
    {
      "cell_type": "code",
      "metadata": {
        "colab": {
          "base_uri": "https://localhost:8080/",
          "height": 350
        },
        "id": "Vnpqn8OTODB2",
        "outputId": "c00e7a8c-c9c2-42fb-a31a-2d0ece7d0d01"
      },
      "source": [
        "x_normed = (x - x.mean(axis=0))/(x.std(axis=0)) #Performing mormalization scaling on the data. axis=0 indicates column wise calculation\n",
        "x_train = x_normed[:-20,:]\n",
        "x_test = x_normed[-20:,:]\n",
        "b = grad_algo(x_train,y_train,0.05,100) \n",
        "print(\"The predicted value for 10 test data is:\", predict(b,x_test[10,:])) #Predicted value\n",
        "print(\"The actual value for 10 test data is:\", y_test[10]) #Actual value\n",
        "print(\"The training error after 100 iterations is: \",cal_err(b,x_train,y_train)) #Training error\n",
        "print(\"The error for test data is: \",cal_err(b,x_test,y_test))#Testing error"
      ],
      "execution_count": null,
      "outputs": [
        {
          "output_type": "display_data",
          "data": {
            "image/png": "[encoded data removed]",
            "text/plain": [
              "<Figure size 432x288 with 1 Axes>"
            ]
          },
          "metadata": {
            "tags": [],
            "needs_background": "light"
          }
        },
        {
          "output_type": "stream",
          "text": [
            "The predicted value for 10 test data is: 15.167592339808216\n",
            "The actual value for 10 test data is: 19.7\n",
            "The training error after 100 iterations is:  14.373047659087133\n",
            "The error for test data is:  5.770596457467509\n"
          ],
          "name": "stdout"
        }
      ]
    },
    {
      "cell_type": "code",
      "metadata": {
        "colab": {
          "base_uri": "https://localhost:8080/",
          "height": 350
        },
        "id": "7umDtUKwOpE0",
        "outputId": "4d9c191c-9688-4f77-bf8e-2d0856227fa3"
      },
      "source": [
        "from sklearn import datasets\n",
        "x,y = datasets.load_diabetes(return_X_y = True)\n",
        "#Keep some 20 samples/examples for testing and remaining for training\n",
        "x_train = x[:-20,:] #this selects all the examples except the last 20\n",
        "y_train = y[:-20]\n",
        "x_test = x[-20:,:]#this selects the last 20 examples\n",
        "y_test = y[-20:]\n",
        "b = grad_algo(x_train,y_train,0.5,100) \n",
        "print(\"The predicted value for 10 test data is:\", predict(b,x_test[10,:])) #Predicted value\n",
        "print(\"The actual value for 10 test data is:\", y_test[10]) #Actual value\n",
        "print(\"The training error after 100 iterations is: \",cal_err(b,x_train,y_train)) #Training error\n",
        "print(\"The error for test data is: \",cal_err(b,x_test,y_test))#Testing error"
      ],
      "execution_count": null,
      "outputs": [
        {
          "output_type": "display_data",
          "data": {
            "image/png": "[encoded data removed]",
            "text/plain": [
              "<Figure size 432x288 with 1 Axes>"
            ]
          },
          "metadata": {
            "tags": [],
            "needs_background": "light"
          }
        },
        {
          "output_type": "stream",
          "text": [
            "The predicted value for 10 test data is: 165.38857401364018\n",
            "The actual value for 10 test data is: 173.0\n",
            "The training error after 100 iterations is:  2483.6744846243478\n",
            "The error for test data is:  2238.605061679154\n"
          ],
          "name": "stdout"
        }
      ]
    },
    {
      "cell_type": "code",
      "metadata": {
        "colab": {
          "base_uri": "https://localhost:8080/",
          "height": 350
        },
        "id": "-0GVwdyxPYma",
        "outputId": "d8d3b50c-5326-4fc7-b086-b57ad9ea1797"
      },
      "source": [
        "x_normed = (x - x.mean(axis=0))/(x.std(axis=0)) #Performing mormalization scaling on the data. axis=0 indicates column wise calculation\n",
        "x_train = x_normed[:-20,:]\n",
        "x_test = x_normed[-20:,:]\n",
        "b = grad_algo(x_train,y_train,0.05,100) \n",
        "print(\"The predicted value for 10 test data is:\", predict(b,x_test[10,:])) #Predicted value\n",
        "print(\"The actual value for 10 test data is:\", y_test[10]) #Actual value\n",
        "print(\"The training error after 100 iterations is: \",cal_err(b,x_train,y_train)) #Training error\n",
        "print(\"The error for test data is: \",cal_err(b,x_test,y_test))#Testing error"
      ],
      "execution_count": null,
      "outputs": [
        {
          "output_type": "display_data",
          "data": {
            "image/png": "[encoded data removed]",
            "text/plain": [
              "<Figure size 432x288 with 1 Axes>"
            ]
          },
          "metadata": {
            "tags": [],
            "needs_background": "light"
          }
        },
        {
          "output_type": "stream",
          "text": [
            "The predicted value for 10 test data is: 217.77288883434858\n",
            "The actual value for 10 test data is: 173.0\n",
            "The training error after 100 iterations is:  1467.593863820723\n",
            "The error for test data is:  1024.5767892547626\n"
          ],
          "name": "stdout"
        }
      ]
    },
    {
      "cell_type": "markdown",
      "metadata": {
        "id": "IxzeH-O0Qati"
      },
      "source": [
        "Batch Gradient Descent uses the entire set of examples to calculate the gradients in every iteration. If the number of samples is very high it will take enormous time to calculate the gradients. So the alterantive is Stochastic Gradient Descent (SGD)"
      ]
    },
    {
      "cell_type": "code",
      "metadata": {
        "id": "4C9S5V-JQ6Qx"
      },
      "source": [
        "def SGD(x,y,eta,max_iter):\n",
        "  #x is the input data\n",
        "  #y is the output data\n",
        "  #eta is learning rate \n",
        "  #max_iter is the maximem iterations\n",
        "  num_rows, n = x.shape #n is the number of features or the number of variables in the dataset\n",
        "  b = np.zeros(n+1) #initialize the betas to zeros\n",
        "  error = [cal_err(b,x,y)] #This function calculates the error\n",
        "  iter = 1 #This indicates the current iteration\n",
        "  while iter < max_iter:\n",
        "    b = update_weights(b,eta,[x[iter,:]],[y[iter]]) #We are choosing only one example in every iteration\n",
        "    error.append(cal_err(b,x,y)) #Update error for the updated weights and store in the list\n",
        "    iter = iter+1\n",
        "  plt.scatter(np.arange(1,len(error)+1,1),np.array(error)) #plots error vs iterations\n",
        "  plt.xlabel(\"Iterations\")\n",
        "  plt.ylabel(\"Error\")\n",
        "  plt.show()\n",
        "  return b "
      ],
      "execution_count": null,
      "outputs": []
    },
    {
      "cell_type": "code",
      "metadata": {
        "colab": {
          "base_uri": "https://localhost:8080/"
        },
        "id": "lrOG834IRYR0",
        "outputId": "6a56a625-2d1a-452b-a7ea-68861d4af133"
      },
      "source": [
        "df = pd.read_csv(io.BytesIO(data['hou_all.csv']),header=None) #reading the csv from system to Pandas Dataframe. Header is none because the csv file has no header\n",
        "print(df.head())#printing out first five rows in the dataset\n",
        "Data = df.to_numpy() #Converting the dataframe to numpy 2D array\n",
        "x = Data[:,0:13] #This selects the first 13 columns which correspond to the features or x \n",
        "y = Data[:,13] #This selects the 14 column which corresponds to the targets\n",
        "\n",
        "#Keep some 20 samples/examples for testing and remaining for training\n",
        "x_train = x[:-20,:] #this selects all the examples except the last 20\n",
        "y_train = y[:-20]\n",
        "x_test = x[-20:,:]#this selects the last 20 examples\n",
        "y_test = y[-20:]"
      ],
      "execution_count": null,
      "outputs": [
        {
          "output_type": "stream",
          "text": [
            "        0     1     2   3      4      5   ...   9     10      11    12    13  14\n",
            "0  0.00632  18.0  2.31   0  0.538  6.575  ...  296  15.3  396.90  4.98  24.0   1\n",
            "1  0.02731   0.0  7.07   0  0.469  6.421  ...  242  17.8  396.90  9.14  21.6   1\n",
            "2  0.02729   0.0  7.07   0  0.469  7.185  ...  242  17.8  392.83  4.03  34.7   1\n",
            "3  0.03237   0.0  2.18   0  0.458  6.998  ...  222  18.7  394.63  2.94  33.4   1\n",
            "4  0.06905   0.0  2.18   0  0.458  7.147  ...  222  18.7  396.90  5.33  36.2   1\n",
            "\n",
            "[5 rows x 15 columns]\n"
          ],
          "name": "stdout"
        }
      ]
    },
    {
      "cell_type": "code",
      "metadata": {
        "colab": {
          "base_uri": "https://localhost:8080/",
          "height": 352
        },
        "id": "iCfn7x-rRdKS",
        "outputId": "76c97cb2-c431-4188-d57c-41d3598958ab"
      },
      "source": [
        "x_minmax = (x - x.min(axis=0))/(x.max(axis=0)-x.min(axis=0)) #Performing minmax scaling on the data. axis=0 indicates column wise calculation\n",
        "x_train = x_minmax[:-20,:]\n",
        "x_test = x_minmax[-20:,:]\n",
        "b = SGD(x_train,y_train,0.5,100) \n",
        "print(\"The predicted value for 10 test data is:\", predict(b,x_test[10,:])) #Predicted value\n",
        "print(\"The actual value for 10 test data is:\", y_test[10]) #Actual value\n",
        "print(\"The training error after 100 iterations is: \",cal_err(b,x_train,y_train)) #Training error\n",
        "print(\"The error for test data is: \",cal_err(b,x_test,y_test))#Testing error"
      ],
      "execution_count": null,
      "outputs": [
        {
          "output_type": "display_data",
          "data": {
            "image/png": "[encoded data removed]",
            "text/plain": [
              "<Figure size 432x288 with 1 Axes>"
            ]
          },
          "metadata": {
            "tags": [],
            "needs_background": "light"
          }
        },
        {
          "output_type": "stream",
          "text": [
            "The predicted value for 10 test data is: 19.568038366698236\n",
            "The actual value for 10 test data is: 19.7\n",
            "The training error after 100 iterations is:  21.434940796940058\n",
            "The error for test data is:  8.924813043136522\n"
          ],
          "name": "stdout"
        }
      ]
    },
    {
      "cell_type": "markdown",
      "metadata": {
        "id": "HejUTli7SPH2"
      },
      "source": [
        "SGD is faster compared to batch gradient descent but the error fluctuates. So alternative is mini-batch gradient descent"
      ]
    },
    {
      "cell_type": "code",
      "metadata": {
        "id": "QGQhuJfsSacV"
      },
      "source": [
        "def mini_grad_algo(x,y,eta,max_iter):\n",
        "  #x is the input data\n",
        "  #y is the output data\n",
        "  #eta is learning rate \n",
        "  #max_iter is the maximem iterations\n",
        "  num_rows, n = x.shape #n is the number of features or the number of variables in the dataset\n",
        "  batchsize = 30 #This indicates number of examples to be passed in every iteration\n",
        "  b = np.zeros(n+1) #initialize the betas to zeros\n",
        "  error = [cal_err(b,x,y)] #This function calculates the error\n",
        "  iter = 1 #This indicates the current iteration\n",
        "  while iter < max_iter:\n",
        "    b = update_weights(b,eta,x[iter-1:iter-1+batchsize,:],y[iter-1:iter-1+batchsize]) #I am passing only a batch of examples instead of the entire set\n",
        "    error.append(cal_err(b,x,y)) #Update error for the updated weights and store in the list\n",
        "    iter = iter+1\n",
        "  plt.scatter(np.arange(1,len(error)+1,1),np.array(error)) #plots error vs iterations\n",
        "  plt.xlabel(\"Iterations\")\n",
        "  plt.ylabel(\"Error\")\n",
        "  plt.show()\n",
        "  return b"
      ],
      "execution_count": null,
      "outputs": []
    },
    {
      "cell_type": "code",
      "metadata": {
        "colab": {
          "base_uri": "https://localhost:8080/",
          "height": 350
        },
        "id": "XeOXcVYDTb7k",
        "outputId": "226297b5-e43b-44f2-91b2-ac65483166df"
      },
      "source": [
        "x_minmax = (x - x.min(axis=0))/(x.max(axis=0)-x.min(axis=0)) #Performing minmax scaling on the data. axis=0 indicates column wise calculation\n",
        "x_train = x_minmax[:-20,:]\n",
        "x_test = x_minmax[-20:,:]\n",
        "b = mini_grad_algo(x_train,y_train,0.5,100) \n",
        "print(\"The predicted value for 10 test data is:\", predict(b,x_test[10,:])) #Predicted value\n",
        "print(\"The actual value for 10 test data is:\", y_test[10]) #Actual value\n",
        "print(\"The training error after 100 iterations is: \",cal_err(b,x_train,y_train)) #Training error\n",
        "print(\"The error for test data is: \",cal_err(b,x_test,y_test))#Testing error"
      ],
      "execution_count": null,
      "outputs": [
        {
          "output_type": "display_data",
          "data": {
            "image/png": "[encoded data removed]",
            "text/plain": [
              "<Figure size 432x288 with 1 Axes>"
            ]
          },
          "metadata": {
            "tags": [],
            "needs_background": "light"
          }
        },
        {
          "output_type": "stream",
          "text": [
            "The predicted value for 10 test data is: 21.210880423736395\n",
            "The actual value for 10 test data is: 19.7\n",
            "The training error after 100 iterations is:  35.11082588077296\n",
            "The error for test data is:  12.222367459280969\n"
          ],
          "name": "stdout"
        }
      ]
    },
    {
      "cell_type": "code",
      "metadata": {
        "id": "_1giRrPpbjs2"
      },
      "source": [
        "def loss(b,x,y):\n",
        "  n = len(y)\n",
        "  X = np.insert(x,0,np.ones(n),axis = 1) #Inserting a column of ones to the existing matrix x\n",
        "  z = np.matmul(b,X.T)\n",
        "  h = 1/(1+np.exp(-z))\n",
        "  return (-1/n)*np.sum(y*np.log(h)+(1-y)*np.log(1-h))\n",
        "\n",
        "#This is for calculating the gradients of a logistic regression problem\n",
        "def grad_class(b,x,y):\n",
        "  n = len(y) #This gives me the number of samples \n",
        "  X = np.insert(x,0,np.ones(n),axis = 1) #Inserting a column of ones to the existing matrix x\n",
        "  g = np.array([0]*len(b)) #gradients are zeros\n",
        "  for i in range(len(b)):\n",
        "    z = np.matmul(b,X.T)\n",
        "    h = 1/(1+np.exp(-z))\n",
        "    g[i] = (-1/n)*np.sum((y-h)*X.T[i,:]) #calculate gradients\n",
        "  return g\n",
        "\n",
        "def update_weights(b,eta,x,y):\n",
        "  return b - eta*grad_class(b,x,y) #grad function returns the gradients and I am returning the updated weights\n",
        "\n",
        "def grad_algo_class(x,y,eta,max_iter):\n",
        "  #x is the input data\n",
        "  #y is the output data\n",
        "  #eta is learning rate \n",
        "  #max_iter is the maximem iterations\n",
        "  num_rows, n = x.shape #n is the number of features or the number of variables in the dataset\n",
        "  b = np.zeros(n+1) #initialize the betas to zeros\n",
        "  error = [loss(b,x,y)] #This function calculates the loss\n",
        "  iter = 1 #This indicates the current iteration\n",
        "  while iter < max_iter:\n",
        "    b = update_weights(b,eta,x,y) #This function updates the weghts in every iteration\n",
        "    error.append(loss(b,x,y)) #Update error for the updated weights and store in the list\n",
        "    iter = iter+1\n",
        "  plt.scatter(np.arange(1,len(error)+1,1),np.array(error)) #plots error vs iterations\n",
        "  plt.xlabel(\"Iterations\")\n",
        "  plt.ylabel(\"Loss\")\n",
        "  plt.show()\n",
        "  return b\n",
        "\n",
        "\n",
        "def accuracy (b,x,y):\n",
        "  n = len(y) #calculates the number of examples\n",
        "  X = np.insert(x,0,np.ones(n),axis = 1) #Inserting a column of ones to the existing matrix x\n",
        "  z = np.matmul(b,X.T)\n",
        "  h = 1/(1+np.exp(-z)) #sigmoid function\n",
        "  y_pred = np.zeros(n)\n",
        "  for i in range(n):\n",
        "    if h[i] > 0.5: #If h is > 0.5 it is positive class\n",
        "      y_pred[i] = 1\n",
        "    else:\n",
        "      y_pred[i] = 0\n",
        "  acc = 0\n",
        "  for i in range(n):\n",
        "    if y[i] == y_pred[i]: #iF PREDICTED CLASS IS SAME AS ACTUAL ACTUAL INCREMENT ACC BY 1\n",
        "      acc = acc+1\n",
        "  return 100*acc/n\n",
        "\n"
      ],
      "execution_count": null,
      "outputs": []
    },
    {
      "cell_type": "code",
      "metadata": {
        "colab": {
          "resources": {
            "http://localhost:8080/nbextensions/google.colab/files.js": {
              "data": "Ly8gQ29weXJpZ2h0IDIwMTcgR29vZ2xlIExMQwovLwovLyBMaWNlbnNlZCB1bmRlciB0aGUgQXBhY2hlIExpY2Vuc2UsIFZlcnNpb24gMi4wICh0aGUgIkxpY2Vuc2UiKTsKLy8geW91IG1heSBub3QgdXNlIHRoaXMgZmlsZSBleGNlcHQgaW4gY29tcGxpYW5jZSB3aXRoIHRoZSBMaWNlbnNlLgovLyBZb3UgbWF5IG9idGFpbiBhIGNvcHkgb2YgdGhlIExpY2Vuc2UgYXQKLy8KLy8gICAgICBodHRwOi8vd3d3LmFwYWNoZS5vcmcvbGljZW5zZXMvTElDRU5TRS0yLjAKLy8KLy8gVW5sZXNzIHJlcXVpcmVkIGJ5IGFwcGxpY2FibGUgbGF3IG9yIGFncmVlZCB0byBpbiB3cml0aW5nLCBzb2Z0d2FyZQovLyBkaXN0cmlidXRlZCB1bmRlciB0aGUgTGljZW5zZSBpcyBkaXN0cmlidXRlZCBvbiBhbiAiQVMgSVMiIEJBU0lTLAovLyBXSVRIT1VUIFdBUlJBTlRJRVMgT1IgQ09ORElUSU9OUyBPRiBBTlkgS0lORCwgZWl0aGVyIGV4cHJlc3Mgb3IgaW1wbGllZC4KLy8gU2VlIHRoZSBMaWNlbnNlIGZvciB0aGUgc3BlY2lmaWMgbGFuZ3VhZ2UgZ292ZXJuaW5nIHBlcm1pc3Npb25zIGFuZAovLyBsaW1pdGF0aW9ucyB1bmRlciB0aGUgTGljZW5zZS4KCi8qKgogKiBAZmlsZW92ZXJ2aWV3IEhlbHBlcnMgZm9yIGdvb2dsZS5jb2xhYiBQeXRob24gbW9kdWxlLgogKi8KKGZ1bmN0aW9uKHNjb3BlKSB7CmZ1bmN0aW9uIHNwYW4odGV4dCwgc3R5bGVBdHRyaWJ1dGVzID0ge30pIHsKICBjb25zdCBlbGVtZW50ID0gZG9jdW1lbnQuY3JlYXRlRWxlbWVudCgnc3BhbicpOwogIGVsZW1lbnQudGV4dENvbnRlbnQgPSB0ZXh0OwogIGZvciAoY29uc3Qga2V5IG9mIE9iamVjdC5rZXlzKHN0eWxlQXR0cmlidXRlcykpIHsKICAgIGVsZW1lbnQuc3R5bGVba2V5XSA9IHN0eWxlQXR0cmlidXRlc1trZXldOwogIH0KICByZXR1cm4gZWxlbWVudDsKfQoKLy8gTWF4IG51bWJlciBvZiBieXRlcyB3aGljaCB3aWxsIGJlIHVwbG9hZGVkIGF0IGEgdGltZS4KY29uc3QgTUFYX1BBWUxPQURfU0laRSA9IDEwMCAqIDEwMjQ7CgpmdW5jdGlvbiBfdXBsb2FkRmlsZXMoaW5wdXRJZCwgb3V0cHV0SWQpIHsKICBjb25zdCBzdGVwcyA9IHVwbG9hZEZpbGVzU3RlcChpbnB1dElkLCBvdXRwdXRJZCk7CiAgY29uc3Qgb3V0cHV0RWxlbWVudCA9IGRvY3VtZW50LmdldEVsZW1lbnRCeUlkKG91dHB1dElkKTsKICAvLyBDYWNoZSBzdGVwcyBvbiB0aGUgb3V0cHV0RWxlbWVudCB0byBtYWtlIGl0IGF2YWlsYWJsZSBmb3IgdGhlIG5leHQgY2FsbAogIC8vIHRvIHVwbG9hZEZpbGVzQ29udGludWUgZnJvbSBQeXRob24uCiAgb3V0cHV0RWxlbWVudC5zdGVwcyA9IHN0ZXBzOwoKICByZXR1cm4gX3VwbG9hZEZpbGVzQ29udGludWUob3V0cHV0SWQpOwp9CgovLyBUaGlzIGlzIHJvdWdobHkgYW4gYXN5bmMgZ2VuZXJhdG9yIChub3Qgc3VwcG9ydGVkIGluIHRoZSBicm93c2VyIHlldCksCi8vIHdoZXJlIHRoZXJlIGFyZSBtdWx0aXBsZSBhc3luY2hyb25vdXMgc3RlcHMgYW5kIHRoZSBQeXRob24gc2lkZSBpcyBnb2luZwovLyB0byBwb2xsIGZvciBjb21wbGV0aW9uIG9mIGVhY2ggc3RlcC4KLy8gVGhpcyB1c2VzIGEgUHJvbWlzZSB0byBibG9jayB0aGUgcHl0aG9uIHNpZGUgb24gY29tcGxldGlvbiBvZiBlYWNoIHN0ZXAsCi8vIHRoZW4gcGFzc2VzIHRoZSByZXN1bHQgb2YgdGhlIHByZXZpb3VzIHN0ZXAgYXMgdGhlIGlucHV0IHRvIHRoZSBuZXh0IHN0ZXAuCmZ1bmN0aW9uIF91cGxvYWRGaWxlc0NvbnRpbnVlKG91dHB1dElkKSB7CiAgY29uc3Qgb3V0cHV0RWxlbWVudCA9IGRvY3VtZW50LmdldEVsZW1lbnRCeUlkKG91dHB1dElkKTsKICBjb25zdCBzdGVwcyA9IG91dHB1dEVsZW1lbnQuc3RlcHM7CgogIGNvbnN0IG5leHQgPSBzdGVwcy5uZXh0KG91dHB1dEVsZW1lbnQubGFzdFByb21pc2VWYWx1ZSk7CiAgcmV0dXJuIFByb21pc2UucmVzb2x2ZShuZXh0LnZhbHVlLnByb21pc2UpLnRoZW4oKHZhbHVlKSA9PiB7CiAgICAvLyBDYWNoZSB0aGUgbGFzdCBwcm9taXNlIHZhbHVlIHRvIG1ha2UgaXQgYXZhaWxhYmxlIHRvIHRoZSBuZXh0CiAgICAvLyBzdGVwIG9mIHRoZSBnZW5lcmF0b3IuCiAgICBvdXRwdXRFbGVtZW50Lmxhc3RQcm9taXNlVmFsdWUgPSB2YWx1ZTsKICAgIHJldHVybiBuZXh0LnZhbHVlLnJlc3BvbnNlOwogIH0pOwp9CgovKioKICogR2VuZXJhdG9yIGZ1bmN0aW9uIHdoaWNoIGlzIGNhbGxlZCBiZXR3ZWVuIGVhY2ggYXN5bmMgc3RlcCBvZiB0aGUgdXBsb2FkCiAqIHByb2Nlc3MuCiAqIEBwYXJhbSB7c3RyaW5nfSBpbnB1dElkIEVsZW1lbnQgSUQgb2YgdGhlIGlucHV0IGZpbGUgcGlja2VyIGVsZW1lbnQuCiAqIEBwYXJhbSB7c3RyaW5nfSBvdXRwdXRJZCBFbGVtZW50IElEIG9mIHRoZSBvdXRwdXQgZGlzcGxheS4KICogQHJldHVybiB7IUl0ZXJhYmxlPCFPYmplY3Q+fSBJdGVyYWJsZSBvZiBuZXh0IHN0ZXBzLgogKi8KZnVuY3Rpb24qIHVwbG9hZEZpbGVzU3RlcChpbnB1dElkLCBvdXRwdXRJZCkgewogIGNvbnN0IGlucHV0RWxlbWVudCA9IGRvY3VtZW50LmdldEVsZW1lbnRCeUlkKGlucHV0SWQpOwogIGlucHV0RWxlbWVudC5kaXNhYmxlZCA9IGZhbHNlOwoKICBjb25zdCBvdXRwdXRFbGVtZW50ID0gZG9jdW1lbnQuZ2V0RWxlbWVudEJ5SWQob3V0cHV0SWQpOwogIG91dHB1dEVsZW1lbnQuaW5uZXJIVE1MID0gJyc7CgogIGNvbnN0IHBpY2tlZFByb21pc2UgPSBuZXcgUHJvbWlzZSgocmVzb2x2ZSkgPT4gewogICAgaW5wdXRFbGVtZW50LmFkZEV2ZW50TGlzdGVuZXIoJ2NoYW5nZScsIChlKSA9PiB7CiAgICAgIHJlc29sdmUoZS50YXJnZXQuZmlsZXMpOwogICAgfSk7CiAgfSk7CgogIGNvbnN0IGNhbmNlbCA9IGRvY3VtZW50LmNyZWF0ZUVsZW1lbnQoJ2J1dHRvbicpOwogIGlucHV0RWxlbWVudC5wYXJlbnRFbGVtZW50LmFwcGVuZENoaWxkKGNhbmNlbCk7CiAgY2FuY2VsLnRleHRDb250ZW50ID0gJ0NhbmNlbCB1cGxvYWQnOwogIGNvbnN0IGNhbmNlbFByb21pc2UgPSBuZXcgUHJvbWlzZSgocmVzb2x2ZSkgPT4gewogICAgY2FuY2VsLm9uY2xpY2sgPSAoKSA9PiB7CiAgICAgIHJlc29sdmUobnVsbCk7CiAgICB9OwogIH0pOwoKICAvLyBXYWl0IGZvciB0aGUgdXNlciB0byBwaWNrIHRoZSBmaWxlcy4KICBjb25zdCBmaWxlcyA9IHlpZWxkIHsKICAgIHByb21pc2U6IFByb21pc2UucmFjZShbcGlja2VkUHJvbWlzZSwgY2FuY2VsUHJvbWlzZV0pLAogICAgcmVzcG9uc2U6IHsKICAgICAgYWN0aW9uOiAnc3RhcnRpbmcnLAogICAgfQogIH07CgogIGNhbmNlbC5yZW1vdmUoKTsKCiAgLy8gRGlzYWJsZSB0aGUgaW5wdXQgZWxlbWVudCBzaW5jZSBmdXJ0aGVyIHBpY2tzIGFyZSBub3QgYWxsb3dlZC4KICBpbnB1dEVsZW1lbnQuZGlzYWJsZWQgPSB0cnVlOwoKICBpZiAoIWZpbGVzKSB7CiAgICByZXR1cm4gewogICAgICByZXNwb25zZTogewogICAgICAgIGFjdGlvbjogJ2NvbXBsZXRlJywKICAgICAgfQogICAgfTsKICB9CgogIGZvciAoY29uc3QgZmlsZSBvZiBmaWxlcykgewogICAgY29uc3QgbGkgPSBkb2N1bWVudC5jcmVhdGVFbGVtZW50KCdsaScpOwogICAgbGkuYXBwZW5kKHNwYW4oZmlsZS5uYW1lLCB7Zm9udFdlaWdodDogJ2JvbGQnfSkpOwogICAgbGkuYXBwZW5kKHNwYW4oCiAgICAgICAgYCgke2ZpbGUudHlwZSB8fCAnbi9hJ30pIC0gJHtmaWxlLnNpemV9IGJ5dGVzLCBgICsKICAgICAgICBgbGFzdCBtb2RpZmllZDogJHsKICAgICAgICAgICAgZmlsZS5sYXN0TW9kaWZpZWREYXRlID8gZmlsZS5sYXN0TW9kaWZpZWREYXRlLnRvTG9jYWxlRGF0ZVN0cmluZygpIDoKICAgICAgICAgICAgICAgICAgICAgICAgICAgICAgICAgICAgJ24vYSd9IC0gYCkpOwogICAgY29uc3QgcGVyY2VudCA9IHNwYW4oJzAlIGRvbmUnKTsKICAgIGxpLmFwcGVuZENoaWxkKHBlcmNlbnQpOwoKICAgIG91dHB1dEVsZW1lbnQuYXBwZW5kQ2hpbGQobGkpOwoKICAgIGNvbnN0IGZpbGVEYXRhUHJvbWlzZSA9IG5ldyBQcm9taXNlKChyZXNvbHZlKSA9PiB7CiAgICAgIGNvbnN0IHJlYWRlciA9IG5ldyBGaWxlUmVhZGVyKCk7CiAgICAgIHJlYWRlci5vbmxvYWQgPSAoZSkgPT4gewogICAgICAgIHJlc29sdmUoZS50YXJnZXQucmVzdWx0KTsKICAgICAgfTsKICAgICAgcmVhZGVyLnJlYWRBc0FycmF5QnVmZmVyKGZpbGUpOwogICAgfSk7CiAgICAvLyBXYWl0IGZvciB0aGUgZGF0YSB0byBiZSByZWFkeS4KICAgIGxldCBmaWxlRGF0YSA9IHlpZWxkIHsKICAgICAgcHJvbWlzZTogZmlsZURhdGFQcm9taXNlLAogICAgICByZXNwb25zZTogewogICAgICAgIGFjdGlvbjogJ2NvbnRpbnVlJywKICAgICAgfQogICAgfTsKCiAgICAvLyBVc2UgYSBjaHVua2VkIHNlbmRpbmcgdG8gYXZvaWQgbWVzc2FnZSBzaXplIGxpbWl0cy4gU2VlIGIvNjIxMTU2NjAuCiAgICBsZXQgcG9zaXRpb24gPSAwOwogICAgd2hpbGUgKHBvc2l0aW9uIDwgZmlsZURhdGEuYnl0ZUxlbmd0aCkgewogICAgICBjb25zdCBsZW5ndGggPSBNYXRoLm1pbihmaWxlRGF0YS5ieXRlTGVuZ3RoIC0gcG9zaXRpb24sIE1BWF9QQVlMT0FEX1NJWkUpOwogICAgICBjb25zdCBjaHVuayA9IG5ldyBVaW50OEFycmF5KGZpbGVEYXRhLCBwb3NpdGlvbiwgbGVuZ3RoKTsKICAgICAgcG9zaXRpb24gKz0gbGVuZ3RoOwoKICAgICAgY29uc3QgYmFzZTY0ID0gYnRvYShTdHJpbmcuZnJvbUNoYXJDb2RlLmFwcGx5KG51bGwsIGNodW5rKSk7CiAgICAgIHlpZWxkIHsKICAgICAgICByZXNwb25zZTogewogICAgICAgICAgYWN0aW9uOiAnYXBwZW5kJywKICAgICAgICAgIGZpbGU6IGZpbGUubmFtZSwKICAgICAgICAgIGRhdGE6IGJhc2U2NCwKICAgICAgICB9LAogICAgICB9OwogICAgICBwZXJjZW50LnRleHRDb250ZW50ID0KICAgICAgICAgIGAke01hdGgucm91bmQoKHBvc2l0aW9uIC8gZmlsZURhdGEuYnl0ZUxlbmd0aCkgKiAxMDApfSUgZG9uZWA7CiAgICB9CiAgfQoKICAvLyBBbGwgZG9uZS4KICB5aWVsZCB7CiAgICByZXNwb25zZTogewogICAgICBhY3Rpb246ICdjb21wbGV0ZScsCiAgICB9CiAgfTsKfQoKc2NvcGUuZ29vZ2xlID0gc2NvcGUuZ29vZ2xlIHx8IHt9OwpzY29wZS5nb29nbGUuY29sYWIgPSBzY29wZS5nb29nbGUuY29sYWIgfHwge307CnNjb3BlLmdvb2dsZS5jb2xhYi5fZmlsZXMgPSB7CiAgX3VwbG9hZEZpbGVzLAogIF91cGxvYWRGaWxlc0NvbnRpbnVlLAp9Owp9KShzZWxmKTsK",
              "ok": true,
              "headers": [
                [
                  "content-type",
                  "application/javascript"
                ]
              ],
              "status": 200,
              "status_text": ""
            }
          },
          "base_uri": "https://localhost:8080/",
          "height": 73
        },
        "id": "JcpoBLnje9pi",
        "outputId": "8b23e36a-1270-47c2-fd10-7c072af82369"
      },
      "source": [
        "data = files.upload()"
      ],
      "execution_count": null,
      "outputs": [
        {
          "output_type": "display_data",
          "data": {
            "text/html": [
              "\n",
              "     <input type=\"file\" id=\"files-96dffd40-2da1-456c-ae1b-fe1a2ac15b79\" name=\"files[]\" multiple disabled\n",
              "        style=\"border:none\" />\n",
              "     <output id=\"result-96dffd40-2da1-456c-ae1b-fe1a2ac15b79\">\n",
              "      Upload widget is only available when the cell has been executed in the\n",
              "      current browser session. Please rerun this cell to enable.\n",
              "      </output>\n",
              "      <script src=\"/nbextensions/google.colab/files.js\"></script> "
            ],
            "text/plain": [
              "<IPython.core.display.HTML object>"
            ]
          },
          "metadata": {
            "tags": []
          }
        },
        {
          "output_type": "stream",
          "text": [
            "Saving diabetes.csv to diabetes.csv\n"
          ],
          "name": "stdout"
        }
      ]
    },
    {
      "cell_type": "code",
      "metadata": {
        "colab": {
          "base_uri": "https://localhost:8080/"
        },
        "id": "5_wg7sIqfYtm",
        "outputId": "d31e1f3c-cd81-4c16-f7c1-b0507dfe03bc"
      },
      "source": [
        "df = pd.read_csv(io.BytesIO(data['diabetes.csv'])) #reading the csv from system to Pandas Dataframe. Header is none because the csv file has no header\n",
        "print(df.head())#printing out first five rows in the dataset\n",
        "Data = df.to_numpy() #Converting the dataframe to numpy 2D array\n",
        "x = Data[:,0:8] #This selects the first 8 columns which correspond to the features or x \n",
        "y = Data[:,8] #This selects the 9 column which corresponds to the targets\n",
        "\n",
        "#Keep some 20 samples/examples for testing and remaining for training\n",
        "x_train = x[:-20,:] #this selects all the examples except the last 20\n",
        "y_train = y[:-20]\n",
        "x_test = x[-20:,:]#this selects the last 20 examples\n",
        "y_test = y[-20:]"
      ],
      "execution_count": null,
      "outputs": [
        {
          "output_type": "stream",
          "text": [
            "   Pregnancies  Glucose  BloodPressure  ...  DiabetesPedigreeFunction  Age  Outcome\n",
            "0            6      148             72  ...                     0.627   50        1\n",
            "1            1       85             66  ...                     0.351   31        0\n",
            "2            8      183             64  ...                     0.672   32        1\n",
            "3            1       89             66  ...                     0.167   21        0\n",
            "4            0      137             40  ...                     2.288   33        1\n",
            "\n",
            "[5 rows x 9 columns]\n"
          ],
          "name": "stdout"
        }
      ]
    },
    {
      "cell_type": "code",
      "metadata": {
        "colab": {
          "base_uri": "https://localhost:8080/",
          "height": 386
        },
        "id": "boHKtbHXfyqE",
        "outputId": "80692ea3-a7ca-4428-a00a-13ff5d241938"
      },
      "source": [
        "b = grad_algo_class(x_train,y_train,0.01,100) \n",
        "print('The training accuracy:',accuracy(b,x_train,y_train))\n",
        "print(\"testing accuracy:\",accuracy(b,x_test,y_test))"
      ],
      "execution_count": null,
      "outputs": [
        {
          "output_type": "stream",
          "text": [
            "/usr/local/lib/python3.7/dist-packages/ipykernel_launcher.py:6: RuntimeWarning: divide by zero encountered in log\n",
            "  \n",
            "/usr/local/lib/python3.7/dist-packages/ipykernel_launcher.py:6: RuntimeWarning: invalid value encountered in multiply\n",
            "  \n"
          ],
          "name": "stderr"
        },
        {
          "output_type": "display_data",
          "data": {
            "image/png": "[encoded data removed]",
            "text/plain": [
              "<Figure size 432x288 with 1 Axes>"
            ]
          },
          "metadata": {
            "tags": [],
            "needs_background": "light"
          }
        },
        {
          "output_type": "stream",
          "text": [
            "The training accuracy: 66.97860962566845\n",
            "testing accuracy: 65.0\n"
          ],
          "name": "stdout"
        }
      ]
    }
  ]
}