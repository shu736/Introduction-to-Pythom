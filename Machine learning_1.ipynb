{
  "nbformat": 4,
  "nbformat_minor": 0,
  "metadata": {
    "colab": {
      "name": "Python Day 1.ipynb",
      "provenance": [],
      "authorship_tag": "ABX9TyMgdbx1k3FTDA0NwdbC2lGG",
      "include_colab_link": true
    },
    "kernelspec": {
      "name": "python3",
      "display_name": "Python 3"
    },
    "language_info": {
      "name": "python"
    }
  },
  "cells": [
    {
      "cell_type": "markdown",
      "metadata": {
        "id": "view-in-github",
        "colab_type": "text"
      },
      "source": [
        "<a href=\"https://colab.research.google.com/github/shu736/Introduction-to-Pythom/blob/main/Python_Day_1.ipynb\" target=\"_parent\"><img src=\"https://colab.research.google.com/assets/colab-badge.svg\" alt=\"Open In Colab\"/></a>"
      ]
    },
    {
      "cell_type": "markdown",
      "metadata": {
        "id": "1KE7BstrxxP8"
      },
      "source": [
        "INTODUCTION TO MACHINE LEARNING\n",
        "FIRST ALGORITHM: SIMPLE LINEAR REGRESSION"
      ]
    },
    {
      "cell_type": "code",
      "metadata": {
        "id": "Vp7_Ig31x5rn",
        "colab": {
          "base_uri": "https://localhost:8080/",
          "height": 314
        },
        "outputId": "b6828727-84dd-4e39-83b1-990f0be0973f"
      },
      "source": [
        "import numpy as np\n",
        "import matplotlib.pyplot as plt\n",
        "n = 11 #11 samples are taken\n",
        "x = np.linspace(0,10,n)   #take n no of points for CGPA axis creation\n",
        "y = 1.5*x+2+8*np.random.rand(n)   # Annual income in lakhs\n",
        "b1 = (n*np.matmul(x,y.T)-np.sum(x)*np.sum(y))/((n*np.matmul(x,x.T))-(np.sum(x))**2)  #This is the value of b1\n",
        "b0 = (np.sum(y)-b1*np.sum(x))/n   #this is the value of b0\n",
        "y_pred = b0+b1*x \n",
        "plt.scatter(x,y,c = \"red\",label = \"Actual income of KIIT Students\")  #this creates a red colored scatter plot\n",
        "plt.plot(x,y_pred,c = \"black\",linestyle = '--',linewidth = 2, marker = '*', markersize = 8,label = \"Actual plot\") #This creates a line plot\n",
        "plt.xlabel(\"CGPA\") #This creates a x-label\n",
        "plt.ylabel(\"Annual income in Lakhs\") #This creates a y-label\n",
        "plt.legend()\n",
        "plt.show()\n",
        "\n",
        "print(\"The hyper plane obtained by regression is:\", b0,\"+\",b1,\"x\")  #Hyper plane equation\n",
        "print(\"The predicted income in (Lakhs) for a student having CGPA of 6.5:\", b0+b1*6.5)  #Predicted  value"
      ],
      "execution_count": 6,
      "outputs": [
        {
          "output_type": "display_data",
          "data": {
            "image/png": "[encoded data removed]",
            "text/plain": [
              "<Figure size 432x288 with 1 Axes>"
            ]
          },
          "metadata": {
            "tags": [],
            "needs_background": "light"
          }
        },
        {
          "output_type": "stream",
          "text": [
            "The hyper plane obtained by regression is: 7.901351448835658 + 1.2730158635529087 x\n",
            "The predicted income in (Lakhs) for a student having CGPA of 6.5: 16.175954561929565\n"
          ],
          "name": "stdout"
        }
      ]
    },
    {
      "cell_type": "code",
      "metadata": {
        "id": "4tQG5vs73Rxu"
      },
      "source": [
        "def cal_err(b,x,y):\n",
        "  n = len(y)\n",
        "  X = np.insert(x,0,np.ones(n),axis = 1) #Inserting a column of ones to the existing matrix x\n",
        "  return np.sum((y-np.matmul(b,X.T))**2)*(0.5/n)\n",
        "\n",
        "def grad(b,x,y):\n",
        "  n = len(y) #This gives me the number of samples \n",
        "  X = np.insert(x,0,np.ones(n),axis = 1) #Inserting a column of ones to the existing matrix x\n",
        "  g = np.array([0]*len(b)) #gradients are zeros\n",
        "  for i in range(len(b)):\n",
        "    g[i] = (-1/n)*np.sum((y-np.matmul(b,X.T))*X.T[i,:]) #calculate gradients\n",
        "  return g\n",
        "\n",
        "def update_weights(b,eta,x,y):\n",
        "  return b - eta*grad(b,x,y) #grad function returns the gradients and I am returning the updated weights\n",
        "\n",
        "def grad_algo(x,y,eta,max_iter):\n",
        "  #x is the input data\n",
        "  #y is the output data\n",
        "  #eta is learning rate \n",
        "  #max_iter is the maximem iterations\n",
        "  num_rows, n = x.shape #n is the number of features or the number of variables in the dataset\n",
        "  b = np.zeros(n+1) #initialize the betas to zeros\n",
        "  error = [cal_err(b,x,y)] #This function calculates the error\n",
        "  iter = 1 #This indicates the current iteration\n",
        "  while iter < max_iter:\n",
        "    b = update_weights(b,eta,x,y) #This function updates the weghts in every iteration\n",
        "    error.append(cal_err(b,x,y)) #Update error for the updated weights and store in the list\n",
        "    iter = iter+1\n",
        "  plt.scatter(np.arange(1,len(error)+1,1),np.array(error)) #plots error vs iterations\n",
        "  plt.xlabel(\"Iterations\")\n",
        "  plt.ylabel(\"Error\")\n",
        "  plt.show()\n",
        "  return b\n",
        "\n",
        "def predict(b,x):\n",
        "  return b[0]+np.sum(b[1:]*x) #b0+b1*x1+b2*x2+...+bn*nx"
      ],
      "execution_count": 8,
      "outputs": []
    },
    {
      "cell_type": "markdown",
      "metadata": {
        "id": "iKMw97cs3eo3"
      },
      "source": [
        "x1 = np.array([x]) #I am doing this to convert x into a 2D-array"
      ]
    },
    {
      "cell_type": "code",
      "metadata": {
        "id": "GgbAkA5P3j7Q"
      },
      "source": [
        ""
      ],
      "execution_count": null,
      "outputs": []
    },
    {
      "cell_type": "code",
      "metadata": {
        "colab": {
          "base_uri": "https://localhost:8080/",
          "height": 312
        },
        "id": "yp7WX669axhL",
        "outputId": "d0cd6b29-adad-45a3-bc14-d77f2773ab21"
      },
      "source": [
        "b = grad_algo(x1.T,y,0.01,100)\n",
        "print(\"The hyper plane obtained by regression is:\", b[0],\"+\",b[1],\"x\") #Hyper plane equation\n",
        "print(\"The predicted income (Lakhs) for a student having CGPA of 6.5:\", predict(b,6.5)) #Predicted value"
      ],
      "execution_count": null,
      "outputs": [
        {
          "output_type": "display_data",
          "data": {
            "image/png": "[encoded data removed]",
            "text/plain": [
              "<Figure size 432x288 with 1 Axes>"
            ]
          },
          "metadata": {
            "tags": [],
            "needs_background": "light"
          }
        },
        {
          "output_type": "stream",
          "text": [
            "The hyper plane obtained by regression is: 1.1900000000000008 + 1.2600000000000002 x\n",
            "The predicted income (Lakhs) for a student having CGPA of 6.5: 9.380000000000003\n"
          ],
          "name": "stdout"
        }
      ]
    },
    {
      "cell_type": "code",
      "metadata": {
        "id": "VOleXKRc3tSu"
      },
      "source": [
        ""
      ],
      "execution_count": null,
      "outputs": []
    },
    {
      "cell_type": "code",
      "metadata": {
        "colab": {
          "base_uri": "https://localhost:8080/",
          "height": 312
        },
        "id": "mz1PsH0dbp6r",
        "outputId": "1d46f059-37c4-4eda-b720-c3c21c112aa7"
      },
      "source": [
        "b = grad_algo(x1.T,y,0.06,35) #increase the learning rate\n",
        "print(\"The hyper plane obtained by regression is:\", b[0],\"+\",b[1],\"x\") #Hyper plane equation\n",
        "print(\"The predicted income (Lakhs) for a student having CGPA of 6.5:\", predict(b,6.5)) #Predicted value"
      ],
      "execution_count": null,
      "outputs": [
        {
          "output_type": "display_data",
          "data": {
            "image/png": "[encoded data removed]",
            "text/plain": [
              "<Figure size 432x288 with 1 Axes>"
            ]
          },
          "metadata": {
            "tags": [],
            "needs_background": "light"
          }
        },
        {
          "output_type": "stream",
          "text": [
            "The hyper plane obtained by regression is: 1.8600000000000003 + -2.76 x\n",
            "The predicted income (Lakhs) for a student having CGPA of 6.5: -16.08\n"
          ],
          "name": "stdout"
        }
      ]
    }
  ]
}
