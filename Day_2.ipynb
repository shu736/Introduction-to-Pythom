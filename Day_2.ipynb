{
  "nbformat": 4,
  "nbformat_minor": 0,
  "metadata": {
    "colab": {
      "name": "Day 2.ipynb",
      "provenance": [],
      "authorship_tag": "ABX9TyOaP5efZCuzwatBMLThLurM",
      "include_colab_link": true
    },
    "kernelspec": {
      "name": "python3",
      "display_name": "Python 3"
    },
    "language_info": {
      "name": "python"
    }
  },
  "cells": [
    {
      "cell_type": "markdown",
      "metadata": {
        "id": "view-in-github",
        "colab_type": "text"
      },
      "source": [
        "<a href=\"https://colab.research.google.com/github/shu736/Introduction-to-Pythom/blob/main/Day_2.ipynb\" target=\"_parent\"><img src=\"https://colab.research.google.com/assets/colab-badge.svg\" alt=\"Open In Colab\"/></a>"
      ]
    },
    {
      "cell_type": "code",
      "metadata": {
        "id": "o7PaOWI3yEhf"
      },
      "source": [
        ""
      ],
      "execution_count": null,
      "outputs": []
    },
    {
      "cell_type": "markdown",
      "metadata": {
        "id": "_yO9J6JkyFyB"
      },
      "source": [
        "Classes\n"
      ]
    },
    {
      "cell_type": "code",
      "metadata": {
        "colab": {
          "base_uri": "https://localhost:8080/"
        },
        "id": "I92pejwiyJsu",
        "outputId": "9c1b2d98-3b25-4b39-8710-4a718b367237"
      },
      "source": [
        "class square():   #class object identified by a name\n",
        "  def __init__(self,a):  #initialization block\n",
        "    self.side = a\n",
        "  def area(self):    #methods defined for this class\n",
        "    return self.side**2\n",
        "  def perimeter(self):\n",
        "    return 4*self.side\n",
        "\n",
        "square1 = square(4)  #creating an object with side length 4\n",
        "print(square1.side)\n",
        "print(square1.area())\n",
        "print(square1.perimeter())\n",
        "\n",
        "square2 = square(5)  #creating an object with side length 4\n",
        "print(square2.side)\n",
        "print(square2.area())\n",
        "print(square2.perimeter())\n",
        "\n",
        "print(type(square1))\n",
        "\n",
        "a= int(input(\"Enter the side length:\"))\n",
        "square3=square(2)\n",
        "square3.side=a\n",
        "print(square3.side)\n",
        "         "
      ],
      "execution_count": 4,
      "outputs": [
        {
          "output_type": "stream",
          "text": [
            "4\n",
            "16\n",
            "16\n",
            "5\n",
            "25\n",
            "20\n",
            "<class '__main__.square'>\n",
            "Enter the side length:5\n",
            "5\n"
          ],
          "name": "stdout"
        }
      ]
    },
    {
      "cell_type": "markdown",
      "metadata": {
        "id": "ONt9UQMY1k12"
      },
      "source": [
        "Self"
      ]
    },
    {
      "cell_type": "code",
      "metadata": {
        "colab": {
          "base_uri": "https://localhost:8080/"
        },
        "id": "bSPRBaJ81nOW",
        "outputId": "0d6d4df9-b75b-4b31-9c47-0dc2de6806e6"
      },
      "source": [
        "class ordinate():\n",
        "  def __init__(self,x,y):\n",
        "    self.x = x\n",
        "    self.y = y\n",
        "  def distance(self,other):\n",
        "    return ((self.x-other.x)**2+(self.y-other.y)**2)**0.5\n",
        "\n",
        "cod1 = ordinate(5,6)\n",
        "cod2 = ordinate(8,9)\n",
        "print(cod1.distance(cod2)) "
      ],
      "execution_count": 6,
      "outputs": [
        {
          "output_type": "stream",
          "text": [
            "4.242640687119285\n"
          ],
          "name": "stdout"
        }
      ]
    },
    {
      "cell_type": "markdown",
      "metadata": {
        "id": "jav8y4Lz3Gw6"
      },
      "source": [
        "Bound method"
      ]
    },
    {
      "cell_type": "code",
      "metadata": {
        "colab": {
          "base_uri": "https://localhost:8080/"
        },
        "id": "xuJjmDpz3JBV",
        "outputId": "437ede6f-781e-4ef0-cbb6-a32a17866b31"
      },
      "source": [
        "class square():   #class object identified by a name\n",
        "  def __init__(self,a):  #initialization block\n",
        "    self.side = a\n",
        "  @property\n",
        "  def area(self):    #methods defined for this class\n",
        "    return self.side**2\n",
        "  @property\n",
        "  def perimeter(self):\n",
        "    return 4*self.side\n",
        "\n",
        "square1 = square(4)  #creating an object with side length 4\n",
        "print(square1.side)\n",
        "print(square1.area)\n",
        "print(square1.perimeter)\n"
      ],
      "execution_count": 8,
      "outputs": [
        {
          "output_type": "stream",
          "text": [
            "4\n",
            "16\n",
            "16\n"
          ],
          "name": "stdout"
        }
      ]
    },
    {
      "cell_type": "markdown",
      "metadata": {
        "id": "cSL5nfNb36r5"
      },
      "source": [
        "Creating owr own objects. Example: How to create arrays..?"
      ]
    },
    {
      "cell_type": "code",
      "metadata": {
        "colab": {
          "base_uri": "https://localhost:8080/"
        },
        "id": "rKQtYAtg4ENt",
        "outputId": "69592708-87e2-41cb-f477-9dc6c2e399b9"
      },
      "source": [
        "list1 = [1,2,3,4,5]   #by this method we do not get desired output.\n",
        "print(list1*3)\n",
        "list2 = [2,3,4,5,6]\n",
        "print(list1+list2)"
      ],
      "execution_count": 10,
      "outputs": [
        {
          "output_type": "stream",
          "text": [
            "[1, 2, 3, 4, 5, 1, 2, 3, 4, 5, 1, 2, 3, 4, 5]\n",
            "[1, 2, 3, 4, 5, 2, 3, 4, 5, 6]\n"
          ],
          "name": "stdout"
        }
      ]
    },
    {
      "cell_type": "code",
      "metadata": {
        "colab": {
          "base_uri": "https://localhost:8080/"
        },
        "id": "LJeELkDR4orq",
        "outputId": "60f21166-c544-4464-ed17-6a88edc15819"
      },
      "source": [
        "class array():\n",
        "  def __init__(self,x):\n",
        "    self.x = x\n",
        "  def __add__(self,other):\n",
        "    a = []\n",
        "    for i in range(len(self.x)):\n",
        "      a.append(self.x[i]+other.x[i])\n",
        "    return a \n",
        "  def __sub__(self,other):\n",
        "    a = []\n",
        "    for i in range(len(self.x)):\n",
        "      a.append(self.x[i]-other.x[i])\n",
        "    return a\n",
        "  def __mul__(self,other):\n",
        "    a = []\n",
        "    for i in range(len(self.x)):\n",
        "      a.append(self.x[i]*other.x[i])\n",
        "    return a\n",
        "\n",
        "  def __pow__(self,n):\n",
        "    a = []\n",
        "    for i in range(len(self.x)):\n",
        "      a.append(self.x[i]**n)\n",
        "    return a\n",
        "\n",
        "\n",
        "x = array([1,2,3,4])\n",
        "y = array([4,5,6,7])\n",
        "\n",
        "print(x+y)\n",
        "print(x*y)\n",
        "print(x**3)\n",
        "print(type(x))\n"
      ],
      "execution_count": 15,
      "outputs": [
        {
          "output_type": "stream",
          "text": [
            "[5, 7, 9, 11]\n",
            "[4, 10, 18, 28]\n",
            "[1, 8, 27, 64]\n",
            "<class '__main__.array'>\n"
          ],
          "name": "stdout"
        }
      ]
    },
    {
      "cell_type": "markdown",
      "metadata": {
        "id": "8gAqcMcv8DRp"
      },
      "source": [
        "**NUMPY**"
      ]
    },
    {
      "cell_type": "code",
      "metadata": {
        "colab": {
          "base_uri": "https://localhost:8080/"
        },
        "id": "8lcYq2-Q-HXD",
        "outputId": "a4493f5c-58f1-4bee-da21-36b61c1cdcb4"
      },
      "source": [
        "import numpy as np\n",
        "x = [1,2,3,4]  #list\n",
        "y = np.array(x)\n",
        "print(x)\n",
        "print(y)\n",
        "print(type(x))\n",
        "print(type(y))\n",
        "\n",
        "z = np.array([[1,2,3,4],[5,6,7,8]])   #multidimensional array\n",
        "print(z)\n",
        "print(np.ndim(z))"
      ],
      "execution_count": 17,
      "outputs": [
        {
          "output_type": "stream",
          "text": [
            "[1, 2, 3, 4]\n",
            "[1 2 3 4]\n",
            "<class 'list'>\n",
            "<class 'numpy.ndarray'>\n",
            "[[1 2 3 4]\n",
            " [5 6 7 8]]\n",
            "2\n"
          ],
          "name": "stdout"
        }
      ]
    },
    {
      "cell_type": "markdown",
      "metadata": {
        "id": "-RlUujIr_r2G"
      },
      "source": [
        "How to access the elements of a numpy array?\n"
      ]
    },
    {
      "cell_type": "code",
      "metadata": {
        "colab": {
          "base_uri": "https://localhost:8080/"
        },
        "id": "6z7Sx_RV_w2q",
        "outputId": "9342dfe8-bd69-4e42-ea08-fb3b6998cd34"
      },
      "source": [
        "print(y[0])\n",
        "print(y[1:4])\n",
        "print(z[0,2])\n",
        "print(z[:,2])"
      ],
      "execution_count": 18,
      "outputs": [
        {
          "output_type": "stream",
          "text": [
            "1\n",
            "[2 3 4]\n",
            "3\n",
            "[3 7]\n"
          ],
          "name": "stdout"
        }
      ]
    },
    {
      "cell_type": "markdown",
      "metadata": {
        "id": "NOQFdnGVA2T0"
      },
      "source": [
        "Operation on numpy arrays"
      ]
    },
    {
      "cell_type": "code",
      "metadata": {
        "colab": {
          "base_uri": "https://localhost:8080/"
        },
        "id": "fMhZXWx8A6w2",
        "outputId": "5c143804-9d75-4d51-e5f8-88d8ac0fe365"
      },
      "source": [
        "x = np.array([[1,2,3,4],[5,6,7,8]])\n",
        "y = np.array([[4,9,3,4],[5,6,7,8]])\n",
        "print(x+y)\n",
        "print(x-y)\n",
        "print(x*y)    #element wise multiplication"
      ],
      "execution_count": 19,
      "outputs": [
        {
          "output_type": "stream",
          "text": [
            "[[ 5 11  6  8]\n",
            " [10 12 14 16]]\n",
            "[[-3 -7  0  0]\n",
            " [ 0  0  0  0]]\n",
            "[[ 4 18  9 16]\n",
            " [25 36 49 64]]\n"
          ],
          "name": "stdout"
        }
      ]
    },
    {
      "cell_type": "code",
      "metadata": {
        "colab": {
          "base_uri": "https://localhost:8080/"
        },
        "id": "o8kG6avQBQOm",
        "outputId": "ddb13778-7b1a-4a94-9522-e16bbf022ffe"
      },
      "source": [
        "z = np.array([[1,4],[3,9]])\n",
        "x = np.array([[3,4],[8,9]])\n",
        "print(np.matmul(z,x))  #matrix multiplication\n",
        "print(np.transpose(z))   #transpose\n",
        "print(z.T)    #shortcutfor transpose\n",
        "print(np.linalg.inv(z))   #inverse of a matrix\n",
        "print(np.zeros((2,4)))  #zero matrix\n",
        "print(np.ones((2,4)))    #one matrix\n",
        "print(z.reshape((4,1)))   #reshape the array\n",
        "s = np.matrix([[1,2,3,4],[5,6,7,8]])\n",
        "print(s)\n",
        "print(type(s))"
      ],
      "execution_count": 27,
      "outputs": [
        {
          "output_type": "stream",
          "text": [
            "[[35 40]\n",
            " [81 93]]\n",
            "[[1 3]\n",
            " [4 9]]\n",
            "[[1 3]\n",
            " [4 9]]\n",
            "[[-3.          1.33333333]\n",
            " [ 1.         -0.33333333]]\n",
            "[[0. 0. 0. 0.]\n",
            " [0. 0. 0. 0.]]\n",
            "[[1. 1. 1. 1.]\n",
            " [1. 1. 1. 1.]]\n",
            "[[1]\n",
            " [4]\n",
            " [3]\n",
            " [9]]\n",
            "[[1 2 3 4]\n",
            " [5 6 7 8]]\n",
            "<class 'numpy.matrix'>\n"
          ],
          "name": "stdout"
        }
      ]
    },
    {
      "cell_type": "markdown",
      "metadata": {
        "id": "V2iegAL4DK3e"
      },
      "source": [
        "Creating imaginary values, Using fast fourier transform ,equally spaced values,random numbers"
      ]
    },
    {
      "cell_type": "code",
      "metadata": {
        "colab": {
          "base_uri": "https://localhost:8080/"
        },
        "id": "Sa41zrAAF3fs",
        "outputId": "a885dc71-c082-4617-e0e8-674fef600a58"
      },
      "source": [
        "x = np.array([1+2j,3+4j,5+6j])   #imaginary values can be identified bya a number followed by j\n",
        "print(type(x))\n",
        "print(np.imag(x))\n",
        "print(np.real(x))\n",
        "z = np.fft.fft(x)   #fast fourier transform useful for signal analysis\n",
        "print(z)\n",
        "print(np.abs(z))\n",
        "print(np.fft.ifft(z))\n",
        "\n",
        "x = np.linspace(0,10,100)   #it creates 100 values between 0 and 10\n",
        "y = np.sin(2*np.pi*5*x)   #this creates a sine wave\n",
        "\n",
        "x = np.arange(0,10,0.1)  #it creates a array having elements between 0 and 10 in steps of 0.1\n",
        "y = np.sin(2*np.pi*5*x)    #it creates a sine wave\n",
        "print(x)\n",
        "\n",
        "x = np.random.rand(10) #this generates 10 random values between 0 and 1\n",
        "print(x)\n",
        "x = np.random.rand(3,2) #this generates 3*2 array random values between 0 and 1\n",
        "print(x)\n",
        "\n",
        "x = np.random.randint(1,7,10)  #it creates 10 random integers between 1 and 6\n",
        "print(x)"
      ],
      "execution_count": 37,
      "outputs": [
        {
          "output_type": "stream",
          "text": [
            "<class 'numpy.ndarray'>\n",
            "[2. 4. 6.]\n",
            "[1. 3. 5.]\n",
            "[ 9.        +12.j         -4.73205081 -1.26794919j\n",
            " -1.26794919 -4.73205081j]\n",
            "[15.          4.89897949  4.89897949]\n",
            "[1.+2.j 3.+4.j 5.+6.j]\n",
            "[0.  0.1 0.2 0.3 0.4 0.5 0.6 0.7 0.8 0.9 1.  1.1 1.2 1.3 1.4 1.5 1.6 1.7\n",
            " 1.8 1.9 2.  2.1 2.2 2.3 2.4 2.5 2.6 2.7 2.8 2.9 3.  3.1 3.2 3.3 3.4 3.5\n",
            " 3.6 3.7 3.8 3.9 4.  4.1 4.2 4.3 4.4 4.5 4.6 4.7 4.8 4.9 5.  5.1 5.2 5.3\n",
            " 5.4 5.5 5.6 5.7 5.8 5.9 6.  6.1 6.2 6.3 6.4 6.5 6.6 6.7 6.8 6.9 7.  7.1\n",
            " 7.2 7.3 7.4 7.5 7.6 7.7 7.8 7.9 8.  8.1 8.2 8.3 8.4 8.5 8.6 8.7 8.8 8.9\n",
            " 9.  9.1 9.2 9.3 9.4 9.5 9.6 9.7 9.8 9.9]\n",
            "[0.89706524 0.65768845 0.07811855 0.55154256 0.66431496 0.26686001\n",
            " 0.32147504 0.99695936 0.29659614 0.66332513]\n",
            "[[0.01832956 0.78759998]\n",
            " [0.18028966 0.72878431]\n",
            " [0.7282467  0.5107467 ]]\n",
            "[2 5 4 1 4 4 4 4 1 6]\n"
          ],
          "name": "stdout"
        }
      ]
    },
    {
      "cell_type": "markdown",
      "metadata": {
        "id": "ORUPPxymJKtn"
      },
      "source": [
        "Pandas"
      ]
    },
    {
      "cell_type": "code",
      "metadata": {
        "colab": {
          "base_uri": "https://localhost:8080/"
        },
        "id": "-39OJ0dvJMw7",
        "outputId": "cd917953-45cd-476b-cd7d-74f86c15a978"
      },
      "source": [
        "import pandas as pd\n",
        "from sklearn import datasets  #creating data\n",
        "#loading the data\n",
        "df = pd.DataFrame(datasets.load_iris().data)\n",
        "df.columns = datasets.load_iris().feature_names\n",
        "#viewing the contents of the dataframe\n",
        "print(df.head(10))   #method to print first 10 lines of data"
      ],
      "execution_count": 39,
      "outputs": [
        {
          "output_type": "stream",
          "text": [
            "   sepal length (cm)  sepal width (cm)  petal length (cm)  petal width (cm)\n",
            "0                5.1               3.5                1.4               0.2\n",
            "1                4.9               3.0                1.4               0.2\n",
            "2                4.7               3.2                1.3               0.2\n",
            "3                4.6               3.1                1.5               0.2\n",
            "4                5.0               3.6                1.4               0.2\n",
            "5                5.4               3.9                1.7               0.4\n",
            "6                4.6               3.4                1.4               0.3\n",
            "7                5.0               3.4                1.5               0.2\n",
            "8                4.4               2.9                1.4               0.2\n",
            "9                4.9               3.1                1.5               0.1\n"
          ],
          "name": "stdout"
        }
      ]
    },
    {
      "cell_type": "markdown",
      "metadata": {
        "id": "IVdnJiLVLIbL"
      },
      "source": [
        "Accessing the column and row in Pandas Dataframe"
      ]
    },
    {
      "cell_type": "code",
      "metadata": {
        "colab": {
          "base_uri": "https://localhost:8080/"
        },
        "id": "G13y3T3WLOnN",
        "outputId": "1629448b-2a29-4294-ffda-56687513458e"
      },
      "source": [
        "#Printing a particular column\n",
        "print(df['sepal width (cm)'])\n",
        "\n",
        "#Accessing multiple columns\n",
        "print(df[['sepal width (cm)','sepal length (cm)']])\n",
        "\n",
        "#Accessing a particular row\n",
        "print(df.iloc[5])\n",
        "\n",
        "#Accessing a particular column\n",
        "print(df.iloc[5][['sepal width (cm)','sepal length (cm)']])\n",
        "\n",
        "#Multiple Rows and Columns\n",
        "print(df.iloc[5:10,1:4])"
      ],
      "execution_count": 47,
      "outputs": [
        {
          "output_type": "stream",
          "text": [
            "0      3.5\n",
            "1      3.0\n",
            "2      3.2\n",
            "3      3.1\n",
            "4      3.6\n",
            "      ... \n",
            "145    3.0\n",
            "146    2.5\n",
            "147    3.0\n",
            "148    3.4\n",
            "149    3.0\n",
            "Name: sepal width (cm), Length: 150, dtype: float64\n",
            "     sepal width (cm)  sepal length (cm)\n",
            "0                 3.5                5.1\n",
            "1                 3.0                4.9\n",
            "2                 3.2                4.7\n",
            "3                 3.1                4.6\n",
            "4                 3.6                5.0\n",
            "..                ...                ...\n",
            "145               3.0                6.7\n",
            "146               2.5                6.3\n",
            "147               3.0                6.5\n",
            "148               3.4                6.2\n",
            "149               3.0                5.9\n",
            "\n",
            "[150 rows x 2 columns]\n",
            "sepal length (cm)    5.4\n",
            "sepal width (cm)     3.9\n",
            "petal length (cm)    1.7\n",
            "petal width (cm)     0.4\n",
            "Name: 5, dtype: float64\n",
            "sepal width (cm)     3.9\n",
            "sepal length (cm)    5.4\n",
            "Name: 5, dtype: float64\n",
            "   sepal width (cm)  petal length (cm)  petal width (cm)\n",
            "5               3.9                1.7               0.4\n",
            "6               3.4                1.4               0.3\n",
            "7               3.4                1.5               0.2\n",
            "8               2.9                1.4               0.2\n",
            "9               3.1                1.5               0.1\n"
          ],
          "name": "stdout"
        }
      ]
    },
    {
      "cell_type": "markdown",
      "metadata": {
        "id": "1hOwRXdPM4Ud"
      },
      "source": [
        "Convert panda to numpy"
      ]
    },
    {
      "cell_type": "code",
      "metadata": {
        "colab": {
          "base_uri": "https://localhost:8080/"
        },
        "id": "nIC8-Fv_M6jb",
        "outputId": "71f83046-c3a7-4b60-bedb-be4dfbaa1c8a"
      },
      "source": [
        "data = df.to_numpy()  #convert from pandas dataframe to numpy\n",
        "print(data[0:5,:])"
      ],
      "execution_count": 48,
      "outputs": [
        {
          "output_type": "stream",
          "text": [
            "[[5.1 3.5 1.4 0.2]\n",
            " [4.9 3.  1.4 0.2]\n",
            " [4.7 3.2 1.3 0.2]\n",
            " [4.6 3.1 1.5 0.2]\n",
            " [5.  3.6 1.4 0.2]]\n"
          ],
          "name": "stdout"
        }
      ]
    },
    {
      "cell_type": "markdown",
      "metadata": {
        "id": "jSgWV881NQQl"
      },
      "source": [
        "Uploading and Accessing our own data in excel sheets"
      ]
    },
    {
      "cell_type": "code",
      "metadata": {
        "colab": {
          "resources": {
            "http://localhost:8080/nbextensions/google.colab/files.js": {
              "data": "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",
              "ok": true,
              "headers": [
                [
                  "content-type",
                  "application/javascript"
                ]
              ],
              "status": 200,
              "status_text": ""
            }
          },
          "base_uri": "https://localhost:8080/",
          "height": 39
        },
        "id": "SqIp6lY6NV3V",
        "outputId": "40ee125e-5a32-4ba6-dce6-08591e21e0d2"
      },
      "source": [
        "#import files from system to google colab\n",
        "from google.colab import files\n",
        "data = files.upload()\n"
      ],
      "execution_count": 49,
      "outputs": [
        {
          "output_type": "display_data",
          "data": {
            "text/html": [
              "\n",
              "     <input type=\"file\" id=\"files-848b5bb3-7407-421a-9127-be0da88cd6f5\" name=\"files[]\" multiple disabled\n",
              "        style=\"border:none\" />\n",
              "     <output id=\"result-848b5bb3-7407-421a-9127-be0da88cd6f5\">\n",
              "      Upload widget is only available when the cell has been executed in the\n",
              "      current browser session. Please rerun this cell to enable.\n",
              "      </output>\n",
              "      <script src=\"/nbextensions/google.colab/files.js\"></script> "
            ],
            "text/plain": [
              "<IPython.core.display.HTML object>"
            ]
          },
          "metadata": {
            "tags": []
          }
        }
      ]
    },
    {
      "cell_type": "code",
      "metadata": {
        "id": "bGxmhVFkN2Lj"
      },
      "source": [
        "import io\n",
        "df2 = pd.read_excel(io.BtesIO(data['Marks.xlsx']))\n",
        "print(df2.head())"
      ],
      "execution_count": null,
      "outputs": []
    },
    {
      "cell_type": "markdown",
      "metadata": {
        "id": "SJRbNQMDOkL9"
      },
      "source": [
        "Data Manipulation using Pandas"
      ]
    },
    {
      "cell_type": "code",
      "metadata": {
        "colab": {
          "base_uri": "https://localhost:8080/"
        },
        "id": "1oew6woIO8bq",
        "outputId": "54c49455-9f92-4006-88d8-62b35f2cf036"
      },
      "source": [
        "print(df.sort_values('sepal length (cm)'))   #ascending order sort\n",
        "print(df.sort_values('sepal length (cm)',ascending = False)) #descending order sort\n",
        "print(df.sort_values(['sepal length (cm)','sepal width (cm)'],ascending=[0,0]))  #multiple sorting"
      ],
      "execution_count": 53,
      "outputs": [
        {
          "output_type": "stream",
          "text": [
            "     sepal length (cm)  sepal width (cm)  petal length (cm)  petal width (cm)\n",
            "13                 4.3               3.0                1.1               0.1\n",
            "42                 4.4               3.2                1.3               0.2\n",
            "38                 4.4               3.0                1.3               0.2\n",
            "8                  4.4               2.9                1.4               0.2\n",
            "41                 4.5               2.3                1.3               0.3\n",
            "..                 ...               ...                ...               ...\n",
            "122                7.7               2.8                6.7               2.0\n",
            "118                7.7               2.6                6.9               2.3\n",
            "117                7.7               3.8                6.7               2.2\n",
            "135                7.7               3.0                6.1               2.3\n",
            "131                7.9               3.8                6.4               2.0\n",
            "\n",
            "[150 rows x 4 columns]\n",
            "     sepal length (cm)  sepal width (cm)  petal length (cm)  petal width (cm)\n",
            "131                7.9               3.8                6.4               2.0\n",
            "135                7.7               3.0                6.1               2.3\n",
            "122                7.7               2.8                6.7               2.0\n",
            "117                7.7               3.8                6.7               2.2\n",
            "118                7.7               2.6                6.9               2.3\n",
            "..                 ...               ...                ...               ...\n",
            "41                 4.5               2.3                1.3               0.3\n",
            "42                 4.4               3.2                1.3               0.2\n",
            "38                 4.4               3.0                1.3               0.2\n",
            "8                  4.4               2.9                1.4               0.2\n",
            "13                 4.3               3.0                1.1               0.1\n",
            "\n",
            "[150 rows x 4 columns]\n",
            "     sepal length (cm)  sepal width (cm)  petal length (cm)  petal width (cm)\n",
            "131                7.9               3.8                6.4               2.0\n",
            "117                7.7               3.8                6.7               2.2\n",
            "135                7.7               3.0                6.1               2.3\n",
            "122                7.7               2.8                6.7               2.0\n",
            "118                7.7               2.6                6.9               2.3\n",
            "..                 ...               ...                ...               ...\n",
            "41                 4.5               2.3                1.3               0.3\n",
            "42                 4.4               3.2                1.3               0.2\n",
            "38                 4.4               3.0                1.3               0.2\n",
            "8                  4.4               2.9                1.4               0.2\n",
            "13                 4.3               3.0                1.1               0.1\n",
            "\n",
            "[150 rows x 4 columns]\n"
          ],
          "name": "stdout"
        }
      ]
    },
    {
      "cell_type": "code",
      "metadata": {
        "colab": {
          "base_uri": "https://localhost:8080/"
        },
        "id": "l79j6tPTQTyk",
        "outputId": "57161806-b64c-48dc-d5e5-39d3fcacb342"
      },
      "source": [
        "df['New'] = df['petal length (cm)']+df['petal width (cm)']  #create new column\n",
        "print(df.head())"
      ],
      "execution_count": 54,
      "outputs": [
        {
          "output_type": "stream",
          "text": [
            "   sepal length (cm)  sepal width (cm)  ...  petal width (cm)  New\n",
            "0                5.1               3.5  ...               0.2  1.6\n",
            "1                4.9               3.0  ...               0.2  1.6\n",
            "2                4.7               3.2  ...               0.2  1.5\n",
            "3                4.6               3.1  ...               0.2  1.7\n",
            "4                5.0               3.6  ...               0.2  1.6\n",
            "\n",
            "[5 rows x 5 columns]\n"
          ],
          "name": "stdout"
        }
      ]
    },
    {
      "cell_type": "code",
      "metadata": {
        "colab": {
          "base_uri": "https://localhost:8080/"
        },
        "id": "g_PjjEf3Qjlr",
        "outputId": "9cdf10ac-80ba-42a3-dbd3-568430f35f18"
      },
      "source": [
        "df = df.drop(columns =['New'])  # Drop column\n",
        "print(df.head())"
      ],
      "execution_count": 55,
      "outputs": [
        {
          "output_type": "stream",
          "text": [
            "   sepal length (cm)  sepal width (cm)  petal length (cm)  petal width (cm)\n",
            "0                5.1               3.5                1.4               0.2\n",
            "1                4.9               3.0                1.4               0.2\n",
            "2                4.7               3.2                1.3               0.2\n",
            "3                4.6               3.1                1.5               0.2\n",
            "4                5.0               3.6                1.4               0.2\n"
          ],
          "name": "stdout"
        }
      ]
    },
    {
      "cell_type": "code",
      "metadata": {
        "colab": {
          "base_uri": "https://localhost:8080/"
        },
        "id": "qO9kE7ZeQydJ",
        "outputId": "f510a80e-1aba-4c59-ba40-a0a211495881"
      },
      "source": [
        "df['New1'] = df['petal length (cm)']+df['petal width (cm)'] \n",
        "df['New2'] = df['sepal length (cm)']+df['sepal width (cm)'] \n",
        "print(df.head())"
      ],
      "execution_count": 56,
      "outputs": [
        {
          "output_type": "stream",
          "text": [
            "   sepal length (cm)  sepal width (cm)  ...  New1  New2\n",
            "0                5.1               3.5  ...   1.6   8.6\n",
            "1                4.9               3.0  ...   1.6   7.9\n",
            "2                4.7               3.2  ...   1.5   7.9\n",
            "3                4.6               3.1  ...   1.7   7.7\n",
            "4                5.0               3.6  ...   1.6   8.6\n",
            "\n",
            "[5 rows x 6 columns]\n"
          ],
          "name": "stdout"
        }
      ]
    },
    {
      "cell_type": "code",
      "metadata": {
        "colab": {
          "base_uri": "https://localhost:8080/",
          "height": 17
        },
        "id": "vCo4BuAXRCrE",
        "outputId": "9fa9c692-9208-4ce6-8f42-530c4e623109"
      },
      "source": [
        "#download files from google colab to your system\n",
        "df.to_excel('iris.xlsx',index=False)  #creates the excel file in google colab\n",
        "files.download('iris.xlsx')   #downlad the excel file"
      ],
      "execution_count": 58,
      "outputs": [
        {
          "output_type": "display_data",
          "data": {
            "application/javascript": [
              "\n",
              "    async function download(id, filename, size) {\n",
              "      if (!google.colab.kernel.accessAllowed) {\n",
              "        return;\n",
              "      }\n",
              "      const div = document.createElement('div');\n",
              "      const label = document.createElement('label');\n",
              "      label.textContent = `Downloading \"${filename}\": `;\n",
              "      div.appendChild(label);\n",
              "      const progress = document.createElement('progress');\n",
              "      progress.max = size;\n",
              "      div.appendChild(progress);\n",
              "      document.body.appendChild(div);\n",
              "\n",
              "      const buffers = [];\n",
              "      let downloaded = 0;\n",
              "\n",
              "      const channel = await google.colab.kernel.comms.open(id);\n",
              "      // Send a message to notify the kernel that we're ready.\n",
              "      channel.send({})\n",
              "\n",
              "      for await (const message of channel.messages) {\n",
              "        // Send a message to notify the kernel that we're ready.\n",
              "        channel.send({})\n",
              "        if (message.buffers) {\n",
              "          for (const buffer of message.buffers) {\n",
              "            buffers.push(buffer);\n",
              "            downloaded += buffer.byteLength;\n",
              "            progress.value = downloaded;\n",
              "          }\n",
              "        }\n",
              "      }\n",
              "      const blob = new Blob(buffers, {type: 'application/binary'});\n",
              "      const a = document.createElement('a');\n",
              "      a.href = window.URL.createObjectURL(blob);\n",
              "      a.download = filename;\n",
              "      div.appendChild(a);\n",
              "      a.click();\n",
              "      div.remove();\n",
              "    }\n",
              "  "
            ],
            "text/plain": [
              "<IPython.core.display.Javascript object>"
            ]
          },
          "metadata": {
            "tags": []
          }
        },
        {
          "output_type": "display_data",
          "data": {
            "application/javascript": [
              "download(\"download_d0d17bea-9998-433b-a7f7-c94f715770ae\", \"iris.xlsx\", 9275)"
            ],
            "text/plain": [
              "<IPython.core.display.Javascript object>"
            ]
          },
          "metadata": {
            "tags": []
          }
        }
      ]
    },
    {
      "cell_type": "markdown",
      "metadata": {
        "id": "nV3NUoR1Rl3j"
      },
      "source": [
        "Pandas Data Filtering"
      ]
    },
    {
      "cell_type": "code",
      "metadata": {
        "colab": {
          "base_uri": "https://localhost:8080/"
        },
        "id": "cEV3o4awRohr",
        "outputId": "4b09c108-ee8b-4317-8e7c-a8fb14a27f2e"
      },
      "source": [
        "print(df.loc[df['petal length (cm)'] >= 1.5])  #This prints the data corresponding to petal length>=15\n",
        "print(df.loc[df['sepal length (cm)'] >= 6])\n",
        "print(df.loc[(df['sepal length (cm)'] >= 6)&(df['sepal length (cm)'] <3)])"
      ],
      "execution_count": 66,
      "outputs": [
        {
          "output_type": "stream",
          "text": [
            "     sepal length (cm)  sepal width (cm)  ...  New1  New2\n",
            "3                  4.6               3.1  ...   1.7   7.7\n",
            "5                  5.4               3.9  ...   2.1   9.3\n",
            "7                  5.0               3.4  ...   1.7   8.4\n",
            "9                  4.9               3.1  ...   1.6   8.0\n",
            "10                 5.4               3.7  ...   1.7   9.1\n",
            "..                 ...               ...  ...   ...   ...\n",
            "145                6.7               3.0  ...   7.5   9.7\n",
            "146                6.3               2.5  ...   6.9   8.8\n",
            "147                6.5               3.0  ...   7.2   9.5\n",
            "148                6.2               3.4  ...   7.7   9.6\n",
            "149                5.9               3.0  ...   6.9   8.9\n",
            "\n",
            "[126 rows x 6 columns]\n",
            "     sepal length (cm)  sepal width (cm)  ...  New1  New2\n",
            "50                 7.0               3.2  ...   6.1  10.2\n",
            "51                 6.4               3.2  ...   6.0   9.6\n",
            "52                 6.9               3.1  ...   6.4  10.0\n",
            "54                 6.5               2.8  ...   6.1   9.3\n",
            "56                 6.3               3.3  ...   6.3   9.6\n",
            "..                 ...               ...  ...   ...   ...\n",
            "144                6.7               3.3  ...   8.2  10.0\n",
            "145                6.7               3.0  ...   7.5   9.7\n",
            "146                6.3               2.5  ...   6.9   8.8\n",
            "147                6.5               3.0  ...   7.2   9.5\n",
            "148                6.2               3.4  ...   7.7   9.6\n",
            "\n",
            "[67 rows x 6 columns]\n",
            "Empty DataFrame\n",
            "Columns: [sepal length (cm), sepal width (cm), petal length (cm), petal width (cm), New1, New2]\n",
            "Index: []\n"
          ],
          "name": "stdout"
        }
      ]
    },
    {
      "cell_type": "markdown",
      "metadata": {
        "id": "sLoJvyDWTrV7"
      },
      "source": [
        "MATPLOTLIB"
      ]
    },
    {
      "cell_type": "code",
      "metadata": {
        "colab": {
          "base_uri": "https://localhost:8080/",
          "height": 283
        },
        "id": "OFXfk7BaT5mJ",
        "outputId": "fbf42ea1-1a0b-4f24-c28c-859742be4978"
      },
      "source": [
        "import matplotlib.pyplot as plt\n",
        "x = np.linspace(0,1,100)   #it creates 100 values between 0 and 10\n",
        "y = np.sin(2*np.pi*5*x) \n",
        "plt.plot(x,y)\n",
        "plt.show()\n",
        "plt.savefig('plot.png',dpi=300)  #Saves it colab\n",
        "files.download('plot.png')\n"
      ],
      "execution_count": 70,
      "outputs": [
        {
          "output_type": "display_data",
          "data": {
            "image/png": "[encoded data removed]",
            "text/plain": [
              "<Figure size 432x288 with 1 Axes>"
            ]
          },
          "metadata": {
            "tags": [],
            "needs_background": "light"
          }
        },
        {
          "output_type": "display_data",
          "data": {
            "application/javascript": [
              "\n",
              "    async function download(id, filename, size) {\n",
              "      if (!google.colab.kernel.accessAllowed) {\n",
              "        return;\n",
              "      }\n",
              "      const div = document.createElement('div');\n",
              "      const label = document.createElement('label');\n",
              "      label.textContent = `Downloading \"${filename}\": `;\n",
              "      div.appendChild(label);\n",
              "      const progress = document.createElement('progress');\n",
              "      progress.max = size;\n",
              "      div.appendChild(progress);\n",
              "      document.body.appendChild(div);\n",
              "\n",
              "      const buffers = [];\n",
              "      let downloaded = 0;\n",
              "\n",
              "      const channel = await google.colab.kernel.comms.open(id);\n",
              "      // Send a message to notify the kernel that we're ready.\n",
              "      channel.send({})\n",
              "\n",
              "      for await (const message of channel.messages) {\n",
              "        // Send a message to notify the kernel that we're ready.\n",
              "        channel.send({})\n",
              "        if (message.buffers) {\n",
              "          for (const buffer of message.buffers) {\n",
              "            buffers.push(buffer);\n",
              "            downloaded += buffer.byteLength;\n",
              "            progress.value = downloaded;\n",
              "          }\n",
              "        }\n",
              "      }\n",
              "      const blob = new Blob(buffers, {type: 'application/binary'});\n",
              "      const a = document.createElement('a');\n",
              "      a.href = window.URL.createObjectURL(blob);\n",
              "      a.download = filename;\n",
              "      div.appendChild(a);\n",
              "      a.click();\n",
              "      div.remove();\n",
              "    }\n",
              "  "
            ],
            "text/plain": [
              "<IPython.core.display.Javascript object>"
            ]
          },
          "metadata": {
            "tags": []
          }
        },
        {
          "output_type": "display_data",
          "data": {
            "application/javascript": [
              "download(\"download_32917165-9051-41b8-bd5e-3ce6de1e1cfd\", \"plot.png\", 11255)"
            ],
            "text/plain": [
              "<IPython.core.display.Javascript object>"
            ]
          },
          "metadata": {
            "tags": []
          }
        },
        {
          "output_type": "display_data",
          "data": {
            "text/plain": [
              "<Figure size 432x288 with 0 Axes>"
            ]
          },
          "metadata": {
            "tags": []
          }
        }
      ]
    }
  ]
}