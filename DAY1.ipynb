{
  "nbformat": 4,
  "nbformat_minor": 0,
  "metadata": {
    "colab": {
      "name": "DAY1.ipynb",
      "provenance": [],
      "authorship_tag": "ABX9TyOjJc2pxkAaKnkXbmFaTRFK",
      "include_colab_link": true
    },
    "kernelspec": {
      "name": "python3",
      "display_name": "Python 3"
    },
    "language_info": {
      "name": "python"
    }
  },
  "cells": [
    {
      "cell_type": "markdown",
      "metadata": {
        "id": "view-in-github",
        "colab_type": "text"
      },
      "source": [
        "<a href=\"https://colab.research.google.com/github/shu736/Introduction-to-Pythom/blob/main/DAY1.ipynb\" target=\"_parent\"><img src=\"https://colab.research.google.com/assets/colab-badge.svg\" alt=\"Open In Colab\"/></a>"
      ]
    },
    {
      "cell_type": "code",
      "metadata": {
        "colab": {
          "base_uri": "https://localhost:8080/"
        },
        "id": "HByGGx5UeyD_",
        "outputId": "27b539ac-2710-4f25-f736-2762cbb7e1eb"
      },
      "source": [
        "a=34\n",
        "b=33\n",
        "if a>b:\n",
        "  print(\"a greater than b\")\n",
        "elif b>a:\n",
        "  print(\"b greater than a\")\n",
        "else:\n",
        "  print(\"a equals b\")\n",
        "  "
      ],
      "execution_count": 1,
      "outputs": [
        {
          "output_type": "stream",
          "text": [
            "a greater than b\n"
          ],
          "name": "stdout"
        }
      ]
    },
    {
      "cell_type": "code",
      "metadata": {
        "colab": {
          "base_uri": "https://localhost:8080/"
        },
        "id": "ocaTX0L4w4c3",
        "outputId": "58ed5924-7fa6-4e6d-baec-37d3991c47a1"
      },
      "source": [
        "a=input(\"Enter value of a:\")\n",
        "b=input(\"enter value of b:\")\n",
        "if a>b:\n",
        "  print(\"a greater than b\")\n",
        "elif b>a:\n",
        "  print(\"b greater than a\")\n",
        "else:\n",
        "  print(\"a equals b\")"
      ],
      "execution_count": 2,
      "outputs": [
        {
          "output_type": "stream",
          "text": [
            "Enter value of a:25\n",
            "enter value of b:50\n",
            "b greater than a\n"
          ],
          "name": "stdout"
        }
      ]
    },
    {
      "cell_type": "code",
      "metadata": {
        "colab": {
          "base_uri": "https://localhost:8080/"
        },
        "id": "F03xBG8ixKKu",
        "outputId": "ebc5d1e6-b65e-46a4-ff77-4acb37e4862f"
      },
      "source": [
        "a=input(\"Enter value of a:\")\n",
        "b=input(\"enter value of b:\")\n",
        "print(type(a))\n",
        "if a>b:\n",
        "  print(\"a greater than b\")\n",
        "elif b>a:\n",
        "  print(\"b greater than a\")\n",
        "else:\n",
        "  print(\"a equals b\")"
      ],
      "execution_count": 3,
      "outputs": [
        {
          "output_type": "stream",
          "text": [
            "Enter value of a:25\n",
            "enter value of b:50\n",
            "<class 'str'>\n",
            "b greater than a\n"
          ],
          "name": "stdout"
        }
      ]
    },
    {
      "cell_type": "code",
      "metadata": {
        "colab": {
          "base_uri": "https://localhost:8080/"
        },
        "id": "Q39Tv36ezk_O",
        "outputId": "b96e281c-c2ae-4e61-864c-e4814d003a8e"
      },
      "source": [
        "s=\"Honesty is the best policy\"\n",
        "s1='Be Honest'\n",
        "print(s)"
      ],
      "execution_count": 4,
      "outputs": [
        {
          "output_type": "stream",
          "text": [
            "Honesty is the best policy\n"
          ],
          "name": "stdout"
        }
      ]
    },
    {
      "cell_type": "code",
      "metadata": {
        "colab": {
          "base_uri": "https://localhost:8080/"
        },
        "id": "n0N-59HUz6Fm",
        "outputId": "d4e4646c-4aa9-4516-9a29-eadbccf9241b"
      },
      "source": [
        "s=\"Honesty is the best policy\"\n",
        "s1='Be Honest'\n",
        "print(s[0:4])\n"
      ],
      "execution_count": 5,
      "outputs": [
        {
          "output_type": "stream",
          "text": [
            "Hone\n"
          ],
          "name": "stdout"
        }
      ]
    },
    {
      "cell_type": "code",
      "metadata": {
        "colab": {
          "base_uri": "https://localhost:8080/"
        },
        "id": "YRfv4wTn0U2v",
        "outputId": "adf5168e-25cc-487f-d11f-4e5723aa6787"
      },
      "source": [
        "s=\"Honesty is the best policy\"\n",
        "s1='Be Honest'\n",
        "print(s[0:7])\n"
      ],
      "execution_count": 6,
      "outputs": [
        {
          "output_type": "stream",
          "text": [
            "Honesty\n"
          ],
          "name": "stdout"
        }
      ]
    },
    {
      "cell_type": "markdown",
      "metadata": {
        "id": "3OZbPUam0kL9"
      },
      "source": [
        "Strings are scalar objects, they can be sub-divided. I want to add two strings"
      ]
    },
    {
      "cell_type": "code",
      "metadata": {
        "colab": {
          "base_uri": "https://localhost:8080/"
        },
        "id": "yHSzAPee0rVc",
        "outputId": "97914d11-68c3-487b-8fd9-d89f79fc8fb6"
      },
      "source": [
        "x=25\n",
        "y=50\n",
        "print(x+y)\n",
        "x=\"Be\"\n",
        "y=\"Honest\"\n",
        "print(x+y)\n"
      ],
      "execution_count": 7,
      "outputs": [
        {
          "output_type": "stream",
          "text": [
            "75\n",
            "BeHonest\n"
          ],
          "name": "stdout"
        }
      ]
    },
    {
      "cell_type": "code",
      "metadata": {
        "colab": {
          "base_uri": "https://localhost:8080/"
        },
        "id": "k9b6qNJN1FLZ",
        "outputId": "5d0cd803-f719-412a-e9cc-6956352440f9"
      },
      "source": [
        "x=\"Honesty\"\n",
        "print(x*5)\n",
        "x=35\n",
        "print(x*5)\n"
      ],
      "execution_count": 8,
      "outputs": [
        {
          "output_type": "stream",
          "text": [
            "HonestyHonestyHonestyHonestyHonesty\n",
            "175\n"
          ],
          "name": "stdout"
        }
      ]
    },
    {
      "cell_type": "code",
      "metadata": {
        "colab": {
          "base_uri": "https://localhost:8080/"
        },
        "id": "Hk48rjc71gZo",
        "outputId": "82d48905-e940-485e-f2ac-3a41b7f74c89"
      },
      "source": [
        "x=\"Honesty\"\n",
        "print(x[3:6])\n",
        "print(x[-2])\n",
        "print(x[3:6:2])"
      ],
      "execution_count": 9,
      "outputs": [
        {
          "output_type": "stream",
          "text": [
            "est\n",
            "t\n",
            "et\n"
          ],
          "name": "stdout"
        }
      ]
    },
    {
      "cell_type": "code",
      "metadata": {
        "id": "Bamf3iPP2Ndv"
      },
      "source": [
        ""
      ],
      "execution_count": null,
      "outputs": []
    },
    {
      "cell_type": "markdown",
      "metadata": {
        "id": "CdfTUuU92WGv"
      },
      "source": [
        "Type Conversion\n"
      ]
    },
    {
      "cell_type": "code",
      "metadata": {
        "colab": {
          "base_uri": "https://localhost:8080/"
        },
        "id": "HLAiXcNe2Y6H",
        "outputId": "3df5d125-7f1f-4f57-f3a9-7fee390dcf33"
      },
      "source": [
        "x=56.5\n",
        "print(x*5)\n",
        "s=str(x)\n",
        "print(s*5)\n",
        "s=\"3\"\n",
        "print(int(s))"
      ],
      "execution_count": 12,
      "outputs": [
        {
          "output_type": "stream",
          "text": [
            "282.5\n",
            "56.556.556.556.556.5\n",
            "3\n"
          ],
          "name": "stdout"
        }
      ]
    },
    {
      "cell_type": "markdown",
      "metadata": {
        "id": "ZmpzVIg83IGV"
      },
      "source": [
        "User Inputs"
      ]
    },
    {
      "cell_type": "code",
      "metadata": {
        "colab": {
          "base_uri": "https://localhost:8080/"
        },
        "id": "wQjHs7Zp3KCp",
        "outputId": "7d59e289-3172-43a3-d702-de71265b48a8"
      },
      "source": [
        "radius= int(input(\"Enter the value of x:\"))\n",
        "Area=(\"Area of the circle is :\",3.14*3.14*radius*2)\n",
        "print(Area)"
      ],
      "execution_count": 14,
      "outputs": [
        {
          "output_type": "stream",
          "text": [
            "Enter the value of x:2\n",
            "('Area of the circle is :', 39.4384)\n"
          ],
          "name": "stdout"
        }
      ]
    },
    {
      "cell_type": "markdown",
      "metadata": {
        "id": "zftVz6g-4EKb"
      },
      "source": [
        "Comments in Python"
      ]
    },
    {
      "cell_type": "code",
      "metadata": {
        "colab": {
          "base_uri": "https://localhost:8080/"
        },
        "id": "A8J9-Inz4Ghr",
        "outputId": "70bd262f-8fec-46dd-9fe8-108f8a507181"
      },
      "source": [
        "side = float(input(\"Enter the value:\"))   #Enter the side length. Also i am using float for type casting.\n",
        "print(\"area of square is:\",side**2)"
      ],
      "execution_count": 15,
      "outputs": [
        {
          "output_type": "stream",
          "text": [
            "Enter the value:2\n",
            "area of square is: 4.0\n"
          ],
          "name": "stdout"
        }
      ]
    },
    {
      "cell_type": "markdown",
      "metadata": {
        "id": "Hy82E1bD5HGv"
      },
      "source": [
        "LOOPS:\n",
        "Write a simple code to calculate the factorial of a number.?\n"
      ]
    },
    {
      "cell_type": "code",
      "metadata": {
        "colab": {
          "base_uri": "https://localhost:8080/"
        },
        "id": "JlLJzDKc5PyM",
        "outputId": "99f83ad8-586d-4595-94e4-e8c74b699c99"
      },
      "source": [
        "n=int(input(\"Enter the value: \"))\n",
        "fact = 1\n",
        "for i in range(n):\n",
        "  fact=fact*(i+1)\n",
        "print(\"The factorial of\",n,\"is:\",fact)"
      ],
      "execution_count": 16,
      "outputs": [
        {
          "output_type": "stream",
          "text": [
            "Enter the value: 4\n",
            "The factorial of 4 is: 24\n"
          ],
          "name": "stdout"
        }
      ]
    },
    {
      "cell_type": "code",
      "metadata": {
        "colab": {
          "base_uri": "https://localhost:8080/"
        },
        "id": "hoW1Q_jG6qbF",
        "outputId": "652f3ff4-3bc1-497d-8b83-54116a4290ef"
      },
      "source": [
        "print(range(4))"
      ],
      "execution_count": 17,
      "outputs": [
        {
          "output_type": "stream",
          "text": [
            "range(0, 4)\n"
          ],
          "name": "stdout"
        }
      ]
    },
    {
      "cell_type": "markdown",
      "metadata": {
        "id": "gagFzXM87IKK"
      },
      "source": [
        "Loops for strings"
      ]
    },
    {
      "cell_type": "code",
      "metadata": {
        "colab": {
          "base_uri": "https://localhost:8080/"
        },
        "id": "QhWx0vhH7KCA",
        "outputId": "e65da2d0-9047-4a0a-aa39-9cd093176b7a"
      },
      "source": [
        "s=\"Honesty is best policy\"\n",
        "for i in s:\n",
        "  print(i)"
      ],
      "execution_count": 18,
      "outputs": [
        {
          "output_type": "stream",
          "text": [
            "H\n",
            "o\n",
            "n\n",
            "e\n",
            "s\n",
            "t\n",
            "y\n",
            " \n",
            "i\n",
            "s\n",
            " \n",
            "b\n",
            "e\n",
            "s\n",
            "t\n",
            " \n",
            "p\n",
            "o\n",
            "l\n",
            "i\n",
            "c\n",
            "y\n"
          ],
          "name": "stdout"
        }
      ]
    },
    {
      "cell_type": "markdown",
      "metadata": {
        "id": "oQg9rVjz7j-E"
      },
      "source": [
        "While Loop:"
      ]
    },
    {
      "cell_type": "code",
      "metadata": {
        "colab": {
          "base_uri": "https://localhost:8080/"
        },
        "id": "mOHelwrG7mmp",
        "outputId": "a5138b08-54cc-402e-dbdb-624e55601236"
      },
      "source": [
        "n= int(input(\"Enter the value:  \"))\n",
        "i = 1\n",
        "fact = 1\n",
        "while i <= n:\n",
        "  fact = fact*i\n",
        "  i= i+1\n",
        "print(\"The factorial of\",n,\"is:\",fact)"
      ],
      "execution_count": 19,
      "outputs": [
        {
          "output_type": "stream",
          "text": [
            "Enter the value:  4\n",
            "The factorial of 4 is: 24\n"
          ],
          "name": "stdout"
        }
      ]
    },
    {
      "cell_type": "markdown",
      "metadata": {
        "id": "0vI2AoFB-8o7"
      },
      "source": [
        "Functions in Python"
      ]
    },
    {
      "cell_type": "code",
      "metadata": {
        "colab": {
          "base_uri": "https://localhost:8080/"
        },
        "id": "vMfodYy-_CeV",
        "outputId": "c60d2d23-6a30-4d5f-80b7-860c819bad05"
      },
      "source": [
        "def facto(n): #Function definition\n",
        "  fact=1\n",
        "  for i in range(n):\n",
        "    fact = fact*(i+1)\n",
        "  return fact\n",
        "print(\"The factorial of 10 is:\",facto(10))\n",
        "print(\"The factorial of 10 is:\",facto(6))"
      ],
      "execution_count": 20,
      "outputs": [
        {
          "output_type": "stream",
          "text": [
            "The factorial of 10 is: 3628800\n",
            "The factorial of 10 is: 720\n"
          ],
          "name": "stdout"
        }
      ]
    },
    {
      "cell_type": "markdown",
      "metadata": {
        "id": "SLcyehmB_9Ho"
      },
      "source": [
        "Reccursive Functions"
      ]
    },
    {
      "cell_type": "code",
      "metadata": {
        "colab": {
          "base_uri": "https://localhost:8080/"
        },
        "id": "rQRm8YNe__2M",
        "outputId": "f2c624b8-a67c-4f8f-df57-d6e0c4faced6"
      },
      "source": [
        "def rec_facto(n):\n",
        "  if n==1:\n",
        "    return 1\n",
        "  else:\n",
        "   return n*facto(n-1)\n",
        "print(\"The factorial of 10 is:\",facto(10))\n",
        "print(\"The factorial of 10 is:\",facto(6))"
      ],
      "execution_count": 23,
      "outputs": [
        {
          "output_type": "stream",
          "text": [
            "The factorial of 10 is: 3628800\n",
            "The factorial of 10 is: 720\n"
          ],
          "name": "stdout"
        }
      ]
    },
    {
      "cell_type": "markdown",
      "metadata": {
        "id": "1Wh6LJjWDENZ"
      },
      "source": [
        "Tuple"
      ]
    },
    {
      "cell_type": "code",
      "metadata": {
        "colab": {
          "base_uri": "https://localhost:8080/"
        },
        "id": "b--zbBr4DFUc",
        "outputId": "a6744f72-97c7-426b-fe6e-fe62173977e9"
      },
      "source": [
        "a= (\"honesty\")  #This is not a tuple\n",
        "print(type(a))"
      ],
      "execution_count": 31,
      "outputs": [
        {
          "output_type": "stream",
          "text": [
            "<class 'str'>\n"
          ],
          "name": "stdout"
        }
      ]
    },
    {
      "cell_type": "code",
      "metadata": {
        "colab": {
          "base_uri": "https://localhost:8080/"
        },
        "id": "uGEpRHQTDQG8",
        "outputId": "404ae340-30d9-474c-87e1-1722996d196f"
      },
      "source": [
        "a= (\"honesty\",)  #This is  a tuple\n",
        "print(type(a))"
      ],
      "execution_count": 32,
      "outputs": [
        {
          "output_type": "stream",
          "text": [
            "<class 'tuple'>\n"
          ],
          "name": "stdout"
        }
      ]
    },
    {
      "cell_type": "code",
      "metadata": {
        "colab": {
          "base_uri": "https://localhost:8080/",
          "height": 236
        },
        "id": "MJHYx9wQDZfp",
        "outputId": "3a41ea69-14cf-4ed0-a2db-e2916ad681b6"
      },
      "source": [
        "a= (\"honesty\",1,2,5,True,None)  #This is  a tuple\n",
        "print(a)\n",
        "#Accessing individual Elements\n",
        "print(a[0])\n",
        "a[1]=3.5"
      ],
      "execution_count": 37,
      "outputs": [
        {
          "output_type": "stream",
          "text": [
            "('honesty', 1, 2, 5, True, None)\n",
            "honesty\n"
          ],
          "name": "stdout"
        },
        {
          "output_type": "error",
          "ename": "TypeError",
          "evalue": "ignored",
          "traceback": [
            "\u001b[0;31m---------------------------------------------------------------------------\u001b[0m",
            "\u001b[0;31mTypeError\u001b[0m                                 Traceback (most recent call last)",
            "\u001b[0;32m<ipython-input-37-c99df0055f2c>\u001b[0m in \u001b[0;36m<module>\u001b[0;34m()\u001b[0m\n\u001b[1;32m      3\u001b[0m \u001b[0;31m#Accessing individual Elements\u001b[0m\u001b[0;34m\u001b[0m\u001b[0;34m\u001b[0m\u001b[0;34m\u001b[0m\u001b[0m\n\u001b[1;32m      4\u001b[0m \u001b[0mprint\u001b[0m\u001b[0;34m(\u001b[0m\u001b[0ma\u001b[0m\u001b[0;34m[\u001b[0m\u001b[0;36m0\u001b[0m\u001b[0;34m]\u001b[0m\u001b[0;34m)\u001b[0m\u001b[0;34m\u001b[0m\u001b[0;34m\u001b[0m\u001b[0m\n\u001b[0;32m----> 5\u001b[0;31m \u001b[0ma\u001b[0m\u001b[0;34m[\u001b[0m\u001b[0;36m1\u001b[0m\u001b[0;34m]\u001b[0m\u001b[0;34m=\u001b[0m\u001b[0;36m3.5\u001b[0m\u001b[0;34m\u001b[0m\u001b[0;34m\u001b[0m\u001b[0m\n\u001b[0m",
            "\u001b[0;31mTypeError\u001b[0m: 'tuple' object does not support item assignment"
          ]
        }
      ]
    },
    {
      "cell_type": "code",
      "metadata": {
        "colab": {
          "base_uri": "https://localhost:8080/"
        },
        "id": "ETWwu7EGE6u7",
        "outputId": "e667af12-1242-42d0-f1cb-1218bb163ced"
      },
      "source": [
        "x=25\n",
        "y=20\n",
        "(y,x)=(x,y)   # tuple based interchange\n",
        "print(x,y)"
      ],
      "execution_count": 36,
      "outputs": [
        {
          "output_type": "stream",
          "text": [
            "20 25\n"
          ],
          "name": "stdout"
        }
      ]
    },
    {
      "cell_type": "code",
      "metadata": {
        "colab": {
          "base_uri": "https://localhost:8080/"
        },
        "id": "Dym4nV5uFb0z",
        "outputId": "e9baa219-8ec0-4301-c276-54d19fc23d92"
      },
      "source": [
        "a= [\"honesty\",1,2,5,True,None]  #This is  a tuple\n",
        "print(a)\n",
        "#Accessing individual Elements\n",
        "print(a[0])\n",
        "a[1]=3.5\n",
        "print(a)"
      ],
      "execution_count": 38,
      "outputs": [
        {
          "output_type": "stream",
          "text": [
            "['honesty', 1, 2, 5, True, None]\n",
            "honesty\n",
            "['honesty', 3.5, 2, 5, True, None]\n"
          ],
          "name": "stdout"
        }
      ]
    },
    {
      "cell_type": "markdown",
      "metadata": {
        "id": "UYUqZA25FrEg"
      },
      "source": [
        "Methods for list"
      ]
    },
    {
      "cell_type": "code",
      "metadata": {
        "colab": {
          "base_uri": "https://localhost:8080/"
        },
        "id": "HHNwrcGiFtNv",
        "outputId": "7d1c0053-b096-4526-93d7-bbf8e5f53d22"
      },
      "source": [
        "a= [\"honesty\",1,2,5,True,None]\n",
        "print(a)\n",
        "print(a.pop())"
      ],
      "execution_count": 42,
      "outputs": [
        {
          "output_type": "stream",
          "text": [
            "['honesty', 1, 2, 5, True, None]\n",
            "None\n"
          ],
          "name": "stdout"
        }
      ]
    },
    {
      "cell_type": "code",
      "metadata": {
        "colab": {
          "base_uri": "https://localhost:8080/"
        },
        "id": "q3AaT65xGe9z",
        "outputId": "89aa69d9-27ce-40c7-9f9b-bee2fa68070b"
      },
      "source": [
        "print(a) #when we use pop last element will be removed from the queue."
      ],
      "execution_count": 43,
      "outputs": [
        {
          "output_type": "stream",
          "text": [
            "['honesty', 1, 2, 5, True]\n"
          ],
          "name": "stdout"
        }
      ]
    },
    {
      "cell_type": "markdown",
      "metadata": {
        "id": "MEWdcy8gG8Kc"
      },
      "source": [
        "Sort"
      ]
    },
    {
      "cell_type": "code",
      "metadata": {
        "colab": {
          "base_uri": "https://localhost:8080/"
        },
        "id": "_u4v5MvUG9gy",
        "outputId": "0eaacec4-115c-49e1-d35e-a9133eea28c2"
      },
      "source": [
        "a=[50,34,121,100,45]   #for showing list in ascending/descending order and showing length. \n",
        "a.sort()\n",
        "print(a)\n",
        "a.reverse()\n",
        "print(a)\n",
        "print(len(a))\n",
        "print(len(\"Honesty\"))"
      ],
      "execution_count": 48,
      "outputs": [
        {
          "output_type": "stream",
          "text": [
            "[34, 45, 50, 100, 121]\n",
            "[121, 100, 50, 45, 34]\n",
            "5\n",
            "7\n"
          ],
          "name": "stdout"
        }
      ]
    },
    {
      "cell_type": "markdown",
      "metadata": {
        "id": "A7Zv4BgMHzwP"
      },
      "source": [
        "How objects stored in numbering"
      ]
    },
    {
      "cell_type": "code",
      "metadata": {
        "colab": {
          "base_uri": "https://localhost:8080/"
        },
        "id": "4PjJ26dUH2o3",
        "outputId": "58e2db78-6d1d-45a2-c966-082f04a29142"
      },
      "source": [
        "colors = [\"yellow\",\"white\",\"blue\"]\n",
        "new= colors\n",
        "colors.append(\"black\")\n",
        "print(new)"
      ],
      "execution_count": 49,
      "outputs": [
        {
          "output_type": "stream",
          "text": [
            "['yellow', 'white', 'blue', 'black']\n"
          ],
          "name": "stdout"
        }
      ]
    },
    {
      "cell_type": "code",
      "metadata": {
        "colab": {
          "base_uri": "https://localhost:8080/"
        },
        "id": "OBJiubbIIWPO",
        "outputId": "17549763-7716-45a5-c5d8-c9ce027044f8"
      },
      "source": [
        "colors = [\"yellow\",\"white\",\"blue\"]\n",
        "new= [\"yellow\",\"white\",\"blue\"]\n",
        "new.append(\"black\")\n",
        "print(colors)\n",
        "print(new)"
      ],
      "execution_count": 52,
      "outputs": [
        {
          "output_type": "stream",
          "text": [
            "['yellow', 'white', 'blue']\n",
            "['yellow', 'white', 'blue', 'black']\n"
          ],
          "name": "stdout"
        }
      ]
    },
    {
      "cell_type": "markdown",
      "metadata": {
        "id": "0qLTUaaUIzPz"
      },
      "source": [
        "Dictionaries"
      ]
    },
    {
      "cell_type": "code",
      "metadata": {
        "colab": {
          "base_uri": "https://localhost:8080/"
        },
        "id": "tX4C3f2GI1HI",
        "outputId": "4f38fe78-bc76-41df-b697-8905b9eb3c8c"
      },
      "source": [
        "d = {'Hari': [1,2,3,4],'Govind':[2,3,4,5]}\n",
        "print(d['Hari'])\n",
        "print(d.keys())\n",
        "d = {0: [1,2,3,4],1:[2,3,4,5]}\n",
        "print(d[0])"
      ],
      "execution_count": 55,
      "outputs": [
        {
          "output_type": "stream",
          "text": [
            "[1, 2, 3, 4]\n",
            "dict_keys(['Hari', 'Govind'])\n",
            "[1, 2, 3, 4]\n"
          ],
          "name": "stdout"
        }
      ]
    },
    {
      "cell_type": "markdown",
      "metadata": {
        "id": "Ftmj7Zq4JnaF"
      },
      "source": [
        "Fibonnaci Series"
      ]
    },
    {
      "cell_type": "code",
      "metadata": {
        "colab": {
          "base_uri": "https://localhost:8080/"
        },
        "id": "0q2JuVQoJqVG",
        "outputId": "d0873f31-adb1-4135-c3db-c5f608bcab47"
      },
      "source": [
        "d={1:1,2:1}\n",
        "def fiban(d,n):\n",
        "  if n in d.keys():\n",
        "    return d[n]\n",
        "  else:\n",
        "    d[n]=fiban(d,n-1)+fiban(d,n-2)\n",
        "    return d[n]\n",
        "\n",
        "print(fiban(d,10))\n",
        "print(d)"
      ],
      "execution_count": 61,
      "outputs": [
        {
          "output_type": "stream",
          "text": [
            "55\n",
            "{1: 1, 2: 1, 3: 2, 4: 3, 5: 5, 6: 8, 7: 13, 8: 21, 9: 34, 10: 55}\n"
          ],
          "name": "stdout"
        }
      ]
    }
  ]
}